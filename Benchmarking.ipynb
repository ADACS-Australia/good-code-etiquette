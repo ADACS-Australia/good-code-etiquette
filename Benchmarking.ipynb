{
 "cells": [
  {
   "cell_type": "markdown",
   "metadata": {},
   "source": [
    "# Harley Wood School for Astronomy 2019 \n",
    "\n",
    "<img src=\"https://research.smp.uq.edu.au/asa2019/static/asa19/img/HWSA2019-logo.png\" width=300>\n",
    "\n",
    "## Part IV - Timing and profiling code snippets to help write faster code\n",
    "\n",
    "In this session, you will learn how to measure the runtime \n",
    "\n",
    "\n",
    "## Table of Contents\n",
    "\n",
    "1. [When and What to Optimise](#When-and-what-to-optimise)\n",
    "2. [Timing Code Snippets](#Timing-code-snippets)\n",
    "3. [Profiling Code](#Profiling-code-line-by-line)\n",
    "4. [Parallelising Code](#Parallelising-code)\n",
    "5. [Advanced Track](#Advanced-Track)\n",
    "\n",
    "\n",
    "### Required libraries\n",
    "\n",
    "This notebook uses several Python packages that come standard with the [Anaconda Python distribution](http://continuum.io/downloads). The primary libraries that we'll be using are:\n",
    "\n",
    "* **astropy**\n",
    "* **pandas**\n",
    "* **numpy**\n",
    "* **pandas**\n",
    "* **line_profiler**\n",
    "* **memory_profiler**\n",
    "* **schwimmbad** [optional]\n",
    "\n",
    "If you have created a new environment with `conda env create -f hwsa-environment.yml`, then you are all set. If not, To make sure you have all of the packages you need, install them with `conda`:\n",
    "\n",
    "    conda install [package name]\n",
    "    \n",
    "`conda` may ask you to update some of the packages if you don't have the most recent version. Allow it to do so.\n",
    "\n",
    "Alternatively, if you can install the packages with [pip](https://pip.pypa.io/en/stable/installing/) (a Python package manager):\n",
    "\n",
    "    pip install [package name]\n",
    "    \n",
    "Be sure to restart your kernel if you had to install new packages."
   ]
  },
  {
   "cell_type": "markdown",
   "metadata": {},
   "source": [
    "# When and What to Optimise\n",
    "\n",
    "\n",
    "**Code is read far more frequently than written**\n",
    "\n",
    "Optimisation mantras:\n",
    "\n",
    "1. [Obligatory XKCD](https://xkcd.com/1205/)\n",
    "\n",
    "2. Do not optimise unless you have to (your time is *the most precious*)\n",
    "\n",
    "3. Optimise for readability (imagine very cranky future developers, and reduce their cognitive load)\n",
    "\n",
    "4. Variety of optimisations \n",
    "    - Readability\n",
    "    - Usability\n",
    "    - Performance   \n",
    "    - Memory\n",
    "    - Lines of code (code-golf)\n",
    "    \n",
    "5. Remember, every line of code is a potential source of bugs, and future maintenance head-aches. Choose wisely!    \n"
   ]
  },
  {
   "cell_type": "markdown",
   "metadata": {},
   "source": [
    "# Timing Code Snippets\n",
    "\n",
    "`time` magic command measures the time taken by a code snippet by running the snippet once. What are the challenges to timing a piece of code you say?\n",
    "\n",
    "- Ensure that the timing is representative of the average case\n",
    "- Get some sense of the scatter in the runtimes\n",
    "\n",
    "`timeit` magic command tries to answer both those potential issues. `timeit` will repeat a chunk of code some *N* times till a stable runtime measurement is reached. Lots of customisable options -- see the manual [here](https://docs.python.org/3/library/timeit.html)\n",
    "\n",
    "# Magic commands tips\n",
    "\n",
    "Use `%%` at the top of the code snippet (if not a function), or use `%` to invoke when timing a function."
   ]
  },
  {
   "cell_type": "code",
   "execution_count": null,
   "metadata": {},
   "outputs": [],
   "source": [
    "%%timeit\n",
    "#read data \n",
    "from astropy.io.votable import parse_single_table\n",
    "table = parse_single_table(\"async_20190630210155.vot\")\n",
    "#t = table.to_table(use_names_over_ids=True)"
   ]
  },
  {
   "cell_type": "markdown",
   "metadata": {},
   "source": [
    "# That takes a LOOOONG time\n",
    "\n",
    "Can we reduce the total read time? Perhaps we can only read-in the specific columns that we *need*"
   ]
  },
  {
   "cell_type": "code",
   "execution_count": 1,
   "metadata": {},
   "outputs": [
    {
     "name": "stderr",
     "output_type": "stream",
     "text": [
      "WARNING: W27: async_subset.vot:10:2: W27: COOSYS deprecated in VOTable 1.2 [astropy.io.votable.tree]\n",
      "WARNING: W06: async_subset.vot:60:0: W06: Invalid UCD 'arith.ratio': Secondary word 'arith.ratio' is not valid as a primary word [astropy.io.votable.tree]\n",
      "WARNING: W50: async_subset.vot:63:0: W50: Invalid unit string 'mas.yr**-1' [astropy.io.votable.tree]\n",
      "WARNING: W50: async_subset.vot:66:0: W50: Invalid unit string 'mas.yr**-1' [astropy.io.votable.tree]\n",
      "WARNING: W50: async_subset.vot:69:0: W50: Invalid unit string 'mas.yr**-1' [astropy.io.votable.tree]\n",
      "WARNING: W50: async_subset.vot:72:0: W50: Invalid unit string 'mas.yr**-1' [astropy.io.votable.tree]\n",
      "WARNING: W50: async_subset.vot:135:0: W50: Invalid unit string 'mas**-2' [astropy.io.votable.tree]\n",
      "WARNING: W50: async_subset.vot:138:0: W50: Invalid unit string 'um**-1' [astropy.io.votable.tree]\n",
      "WARNING: W06: async_subset.vot:141:0: W06: Invalid UCD 'em.wavenumber;stat.error': Primary word 'stat.error' is not valid as a secondary word [astropy.io.votable.tree]\n",
      "WARNING: W50: async_subset.vot:141:0: W50: Invalid unit string 'um**-1' [astropy.io.votable.tree]\n",
      "WARNING: W06: async_subset.vot:153:0: W06: Invalid UCD 'pos.errorEllipse;stat.max': Secondary word 'pos.errorEllipse' is not valid as a primary word [astropy.io.votable.tree]\n",
      "WARNING: W50: async_subset.vot:168:0: W50: Invalid unit string ''electron'.s**-1' [astropy.io.votable.tree]\n",
      "WARNING: W50: async_subset.vot:171:0: W50: Invalid unit string ''electron'.s**-1' [astropy.io.votable.tree]\n",
      "WARNING: W06: async_subset.vot:174:0: W06: Invalid UCD 'arith.ratio': Secondary word 'arith.ratio' is not valid as a primary word [astropy.io.votable.tree]\n",
      "WARNING: W50: async_subset.vot:183:0: W50: Invalid unit string ''electron'.s**-1' (suppressing further warnings of this type...) [astropy.io.votable.tree]\n",
      "WARNING: W06: async_subset.vot:189:0: W06: Invalid UCD 'arith.ratio': Secondary word 'arith.ratio' is not valid as a primary word [astropy.io.votable.tree]\n",
      "WARNING: W06: async_subset.vot:204:0: W06: Invalid UCD 'arith.ratio': Secondary word 'arith.ratio' is not valid as a primary word [astropy.io.votable.tree]\n",
      "WARNING: W06: async_subset.vot:216:0: W06: Invalid UCD 'phot.color': Unknown word 'phot.color' [astropy.io.votable.tree]\n",
      "WARNING: W06: async_subset.vot:219:0: W06: Invalid UCD 'phot.color': Unknown word 'phot.color' [astropy.io.votable.tree]\n",
      "WARNING: W06: async_subset.vot:222:0: W06: Invalid UCD 'phot.color': Unknown word 'phot.color' [astropy.io.votable.tree]\n",
      "WARNING: W06: async_subset.vot:294:0: W06: Invalid UCD 'phys.size.radius;stat.error': Primary word 'stat.error' is not valid as a secondary word (suppressing further warnings of this type...) [astropy.io.votable.tree]\n",
      "WARNING: W27: async_subset.vot:10:2: W27: COOSYS deprecated in VOTable 1.2 [astropy.io.votable.tree]\n",
      "WARNING: W06: async_subset.vot:60:0: W06: Invalid UCD 'arith.ratio': Secondary word 'arith.ratio' is not valid as a primary word [astropy.io.votable.tree]\n",
      "WARNING: W50: async_subset.vot:63:0: W50: Invalid unit string 'mas.yr**-1' [astropy.io.votable.tree]\n",
      "WARNING: W50: async_subset.vot:66:0: W50: Invalid unit string 'mas.yr**-1' [astropy.io.votable.tree]\n",
      "WARNING: W50: async_subset.vot:69:0: W50: Invalid unit string 'mas.yr**-1' [astropy.io.votable.tree]\n",
      "WARNING: W50: async_subset.vot:72:0: W50: Invalid unit string 'mas.yr**-1' [astropy.io.votable.tree]\n",
      "WARNING: W50: async_subset.vot:135:0: W50: Invalid unit string 'mas**-2' [astropy.io.votable.tree]\n",
      "WARNING: W50: async_subset.vot:138:0: W50: Invalid unit string 'um**-1' [astropy.io.votable.tree]\n",
      "WARNING: W06: async_subset.vot:141:0: W06: Invalid UCD 'em.wavenumber;stat.error': Primary word 'stat.error' is not valid as a secondary word [astropy.io.votable.tree]\n",
      "WARNING: W50: async_subset.vot:141:0: W50: Invalid unit string 'um**-1' [astropy.io.votable.tree]\n",
      "WARNING: W06: async_subset.vot:153:0: W06: Invalid UCD 'pos.errorEllipse;stat.max': Secondary word 'pos.errorEllipse' is not valid as a primary word [astropy.io.votable.tree]\n",
      "WARNING: W50: async_subset.vot:168:0: W50: Invalid unit string ''electron'.s**-1' [astropy.io.votable.tree]\n",
      "WARNING: W50: async_subset.vot:171:0: W50: Invalid unit string ''electron'.s**-1' [astropy.io.votable.tree]\n",
      "WARNING: W06: async_subset.vot:174:0: W06: Invalid UCD 'arith.ratio': Secondary word 'arith.ratio' is not valid as a primary word [astropy.io.votable.tree]\n",
      "WARNING: W50: async_subset.vot:183:0: W50: Invalid unit string ''electron'.s**-1' (suppressing further warnings of this type...) [astropy.io.votable.tree]\n",
      "WARNING: W06: async_subset.vot:189:0: W06: Invalid UCD 'arith.ratio': Secondary word 'arith.ratio' is not valid as a primary word [astropy.io.votable.tree]\n",
      "WARNING: W06: async_subset.vot:204:0: W06: Invalid UCD 'arith.ratio': Secondary word 'arith.ratio' is not valid as a primary word [astropy.io.votable.tree]\n",
      "WARNING: W06: async_subset.vot:216:0: W06: Invalid UCD 'phot.color': Unknown word 'phot.color' [astropy.io.votable.tree]\n",
      "WARNING: W06: async_subset.vot:219:0: W06: Invalid UCD 'phot.color': Unknown word 'phot.color' [astropy.io.votable.tree]\n",
      "WARNING: W06: async_subset.vot:222:0: W06: Invalid UCD 'phot.color': Unknown word 'phot.color' [astropy.io.votable.tree]\n",
      "WARNING: W06: async_subset.vot:294:0: W06: Invalid UCD 'phys.size.radius;stat.error': Primary word 'stat.error' is not valid as a secondary word (suppressing further warnings of this type...) [astropy.io.votable.tree]\n"
     ]
    },
    {
     "name": "stdout",
     "output_type": "stream",
     "text": [
      "2.54 s ± 175 ms per loop (mean ± std. dev. of 7 runs, 1 loop each)\n"
     ]
    }
   ],
   "source": [
    "%%timeit\n",
    "#read the subset data \n",
    "from astropy.io.votable import parse_single_table\n",
    "table = parse_single_table(\"async_subset.vot\")\n",
    "t = table.to_table(use_names_over_ids=True)"
   ]
  },
  {
   "cell_type": "code",
   "execution_count": null,
   "metadata": {},
   "outputs": [],
   "source": [
    "## If you downloaded the pickle file, you can restore via this cell\n",
    "\n",
    "#import pandas as pd\n",
    "#df = pd.read_pickle(\"async_20190630210155.pkl\")"
   ]
  },
  {
   "cell_type": "code",
   "execution_count": 2,
   "metadata": {},
   "outputs": [
    {
     "name": "stdout",
     "output_type": "stream",
     "text": [
      "Done reading table\n"
     ]
    }
   ],
   "source": [
    "#read data -> but this try/except will protect you from re-running a very SLOOW process (un-necessarily)\n",
    "try:\n",
    "    table\n",
    "except NameError:\n",
    "    from astropy.io.votable import parse_single_table\n",
    "    columns = ['phot_g_mean_mag', 'parallax']\n",
    "    table = parse_single_table(\"async_subset.vot\", columns=columns)\n",
    "    print(\"Done reading table\")\n",
    "\n",
    "t = table.to_table(use_names_over_ids=True)"
   ]
  },
  {
   "cell_type": "markdown",
   "metadata": {},
   "source": [
    "# Converting the data\n",
    "\n",
    "Now that you have managed to read-in the data (either the full or subset one), let's convert this to a more convenient data-frame"
   ]
  },
  {
   "cell_type": "code",
   "execution_count": 3,
   "metadata": {},
   "outputs": [
    {
     "name": "stdout",
     "output_type": "stream",
     "text": [
      "CPU times: user 296 ms, sys: 176 ms, total: 472 ms\n",
      "Wall time: 702 ms\n"
     ]
    },
    {
     "name": "stderr",
     "output_type": "stream",
     "text": [
      "/Users/msinha/anaconda3/envs/hwsa/lib/python3.6/site-packages/IPython/core/magics/execution.py:1291: TableReplaceWarning: converted column 'solution_id' from integer to float\n",
      "  exec(code, glob, local_ns)\n",
      "/Users/msinha/anaconda3/envs/hwsa/lib/python3.6/site-packages/IPython/core/magics/execution.py:1291: TableReplaceWarning: converted column 'source_id' from integer to float\n",
      "  exec(code, glob, local_ns)\n",
      "/Users/msinha/anaconda3/envs/hwsa/lib/python3.6/site-packages/IPython/core/magics/execution.py:1291: TableReplaceWarning: converted column 'random_index' from integer to float\n",
      "  exec(code, glob, local_ns)\n",
      "/Users/msinha/anaconda3/envs/hwsa/lib/python3.6/site-packages/IPython/core/magics/execution.py:1291: TableReplaceWarning: converted column 'astrometric_n_obs_al' from integer to float\n",
      "  exec(code, glob, local_ns)\n",
      "/Users/msinha/anaconda3/envs/hwsa/lib/python3.6/site-packages/IPython/core/magics/execution.py:1291: TableReplaceWarning: converted column 'astrometric_n_obs_ac' from integer to float\n",
      "  exec(code, glob, local_ns)\n",
      "/Users/msinha/anaconda3/envs/hwsa/lib/python3.6/site-packages/IPython/core/magics/execution.py:1291: TableReplaceWarning: converted column 'astrometric_n_good_obs_al' from integer to float\n",
      "  exec(code, glob, local_ns)\n",
      "/Users/msinha/anaconda3/envs/hwsa/lib/python3.6/site-packages/IPython/core/magics/execution.py:1291: TableReplaceWarning: converted column 'astrometric_n_bad_obs_al' from integer to float\n",
      "  exec(code, glob, local_ns)\n",
      "/Users/msinha/anaconda3/envs/hwsa/lib/python3.6/site-packages/IPython/core/magics/execution.py:1291: TableReplaceWarning: converted column 'astrometric_params_solved' from integer to float\n",
      "  exec(code, glob, local_ns)\n",
      "/Users/msinha/anaconda3/envs/hwsa/lib/python3.6/site-packages/IPython/core/magics/execution.py:1291: TableReplaceWarning: converted column 'astrometric_matched_observations' from integer to float\n",
      "  exec(code, glob, local_ns)\n",
      "/Users/msinha/anaconda3/envs/hwsa/lib/python3.6/site-packages/IPython/core/magics/execution.py:1291: TableReplaceWarning: converted column 'visibility_periods_used' from integer to float\n",
      "  exec(code, glob, local_ns)\n",
      "/Users/msinha/anaconda3/envs/hwsa/lib/python3.6/site-packages/IPython/core/magics/execution.py:1291: TableReplaceWarning: converted column 'frame_rotator_object_type' from integer to float\n",
      "  exec(code, glob, local_ns)\n",
      "/Users/msinha/anaconda3/envs/hwsa/lib/python3.6/site-packages/IPython/core/magics/execution.py:1291: TableReplaceWarning: converted column 'matched_observations' from integer to float\n",
      "  exec(code, glob, local_ns)\n",
      "/Users/msinha/anaconda3/envs/hwsa/lib/python3.6/site-packages/IPython/core/magics/execution.py:1291: TableReplaceWarning: converted column 'phot_g_n_obs' from integer to float\n",
      "  exec(code, glob, local_ns)\n",
      "/Users/msinha/anaconda3/envs/hwsa/lib/python3.6/site-packages/IPython/core/magics/execution.py:1291: TableReplaceWarning: converted column 'phot_bp_n_obs' from integer to float\n",
      "  exec(code, glob, local_ns)\n",
      "/Users/msinha/anaconda3/envs/hwsa/lib/python3.6/site-packages/IPython/core/magics/execution.py:1291: TableReplaceWarning: converted column 'phot_rp_n_obs' from integer to float\n",
      "  exec(code, glob, local_ns)\n",
      "/Users/msinha/anaconda3/envs/hwsa/lib/python3.6/site-packages/IPython/core/magics/execution.py:1291: TableReplaceWarning: converted column 'phot_proc_mode' from integer to float\n",
      "  exec(code, glob, local_ns)\n",
      "/Users/msinha/anaconda3/envs/hwsa/lib/python3.6/site-packages/IPython/core/magics/execution.py:1291: TableReplaceWarning: converted column 'rv_nb_transits' from integer to float\n",
      "  exec(code, glob, local_ns)\n",
      "/Users/msinha/anaconda3/envs/hwsa/lib/python3.6/site-packages/IPython/core/magics/execution.py:1291: TableReplaceWarning: converted column 'priam_flags' from integer to float\n",
      "  exec(code, glob, local_ns)\n",
      "/Users/msinha/anaconda3/envs/hwsa/lib/python3.6/site-packages/IPython/core/magics/execution.py:1291: TableReplaceWarning: converted column 'flame_flags' from integer to float\n",
      "  exec(code, glob, local_ns)\n"
     ]
    }
   ],
   "source": [
    "%%time\n",
    "df = t.to_pandas()\n",
    "\n",
    "#check the data frame\n",
    "df.head()"
   ]
  },
  {
   "cell_type": "code",
   "execution_count": 4,
   "metadata": {},
   "outputs": [
    {
     "name": "stdout",
     "output_type": "stream",
     "text": [
      "6.83 s ± 193 ms per loop (mean ± std. dev. of 7 runs, 1 loop each)\n"
     ]
    }
   ],
   "source": [
    "%%timeit\n",
    "#convert to pandas df and calculate absolute mag\n",
    "import numpy as np\n",
    "from math import log10\n",
    "\n",
    "df['mg'] = 0\n",
    "df['dist'] = 0\n",
    "\n",
    "for c, v in enumerate(df['phot_g_mean_mag']):\n",
    "    \n",
    "    p =df.loc[c,'parallax']\n",
    "    if p>0:\n",
    "        df.loc[c,'mg'] = v + 5 * log10(p) - 10\n",
    "        df.loc[c,'dist'] = 1000/p\n",
    "    else:\n",
    "        df.loc[c,'mg'] = np.nan\n",
    "        df.loc[c,'dist'] = np.nan"
   ]
  },
  {
   "cell_type": "markdown",
   "metadata": {},
   "source": [
    "# For loops are slow \n",
    "\n",
    "In python, `for` loops are slow. So you should try to avoid them whenever possible. In the following example, we will try to create an array of integers, where each element is the square of the index. The goal would be to create the fastest possible implementation. "
   ]
  },
  {
   "cell_type": "code",
   "execution_count": 5,
   "metadata": {},
   "outputs": [],
   "source": [
    "def basic_list_creation(N): \n",
    "    squares = []\n",
    "    for i in range(N):\n",
    "        squares.append(i**2)\n",
    "        \n",
    "    return squares"
   ]
  },
  {
   "cell_type": "code",
   "execution_count": 6,
   "metadata": {},
   "outputs": [],
   "source": [
    "def list_comprehension(N):\n",
    "    squares = [i**2 for i in range(N)]\n",
    "    return squares"
   ]
  },
  {
   "cell_type": "code",
   "execution_count": 7,
   "metadata": {},
   "outputs": [],
   "source": [
    "N = 10000000"
   ]
  },
  {
   "cell_type": "code",
   "execution_count": 8,
   "metadata": {},
   "outputs": [
    {
     "name": "stdout",
     "output_type": "stream",
     "text": [
      "2.93 s ± 27.3 ms per loop (mean ± std. dev. of 7 runs, 1 loop each)\n"
     ]
    }
   ],
   "source": [
    "%timeit basic_list_creation(N)"
   ]
  },
  {
   "cell_type": "code",
   "execution_count": 9,
   "metadata": {},
   "outputs": [
    {
     "name": "stdout",
     "output_type": "stream",
     "text": [
      "2.6 s ± 35.1 ms per loop (mean ± std. dev. of 7 runs, 1 loop each)\n"
     ]
    }
   ],
   "source": [
    "%timeit list_comprehension(N)"
   ]
  },
  {
   "cell_type": "markdown",
   "metadata": {},
   "source": [
    "# Allocating and re-allocating memory is slow\n",
    "\n",
    "If you know the size of the array, then pre-allocate the array/list, and then fill in at the appropriate index. "
   ]
  },
  {
   "cell_type": "code",
   "execution_count": 10,
   "metadata": {},
   "outputs": [],
   "source": [
    "def prealloc_list(N):\n",
    "    squares = [0]*N\n",
    "    for i in range(N):\n",
    "        squares[i] = i*i"
   ]
  },
  {
   "cell_type": "code",
   "execution_count": 11,
   "metadata": {},
   "outputs": [
    {
     "name": "stdout",
     "output_type": "stream",
     "text": [
      "877 ms ± 26.4 ms per loop (mean ± std. dev. of 7 runs, 1 loop each)\n"
     ]
    }
   ],
   "source": [
    "%timeit prealloc_list(N)"
   ]
  },
  {
   "cell_type": "markdown",
   "metadata": {},
   "source": [
    "# Numpy is faster\n",
    "\n",
    "Let's try to write this \"square\" function in `numpy`"
   ]
  },
  {
   "cell_type": "code",
   "execution_count": 12,
   "metadata": {},
   "outputs": [],
   "source": [
    "def numpy_squares(N):\n",
    "    import numpy as np\n",
    "    squares = np.empty(N)\n",
    "    for i in range(N):\n",
    "        squares[i] = i*i"
   ]
  },
  {
   "cell_type": "code",
   "execution_count": 13,
   "metadata": {},
   "outputs": [
    {
     "name": "stdout",
     "output_type": "stream",
     "text": [
      "1.25 s ± 19.2 ms per loop (mean ± std. dev. of 7 runs, 1 loop each)\n"
     ]
    }
   ],
   "source": [
    "%timeit numpy_squares(N)"
   ]
  },
  {
   "cell_type": "code",
   "execution_count": 16,
   "metadata": {},
   "outputs": [],
   "source": [
    "# For advanced users -> implement this function. Extra points if you can make `numpy_only` more than 20x faster\n",
    "import numpy as np\n",
    "def numpy_only(N):\n",
    "    x = np.arange(N)\n",
    "    return x*x"
   ]
  },
  {
   "cell_type": "code",
   "execution_count": 17,
   "metadata": {},
   "outputs": [
    {
     "name": "stdout",
     "output_type": "stream",
     "text": [
      "53.1 ms ± 1.99 ms per loop (mean ± std. dev. of 7 runs, 10 loops each)\n"
     ]
    }
   ],
   "source": [
    "%timeit numpy_only(N)"
   ]
  },
  {
   "cell_type": "code",
   "execution_count": 19,
   "metadata": {},
   "outputs": [],
   "source": [
    "import numpy as np\n",
    "def numpy_square(N):\n",
    "    return np.square(np.arange(N))"
   ]
  },
  {
   "cell_type": "code",
   "execution_count": 22,
   "metadata": {},
   "outputs": [
    {
     "name": "stdout",
     "output_type": "stream",
     "text": [
      "47.8 ms ± 2.76 ms per loop (mean ± std. dev. of 7 runs, 10 loops each)\n"
     ]
    }
   ],
   "source": [
    "%timeit numpy_square(N)"
   ]
  },
  {
   "cell_type": "markdown",
   "metadata": {},
   "source": [
    "# Back to processing GAIA data"
   ]
  },
  {
   "cell_type": "code",
   "execution_count": 23,
   "metadata": {},
   "outputs": [],
   "source": [
    "def second_attempt_at_abs_mag_and_dist(df):\n",
    "    import pandas as pd\n",
    "    import numpy as np\n",
    "    import math\n",
    "\n",
    "    df['mg2'] = 0\n",
    "    df['dist2'] = 0\n",
    "\n",
    "    for c, v in enumerate(df['phot_g_mean_mag']):\n",
    "\n",
    "        p =df.loc[c,'parallax']\n",
    "        if p>0:\n",
    "            df.loc[c,'mg2'] = v + 5 * math.log10(p) - 10\n",
    "            df.loc[c,'dist2'] = 1000/p\n",
    "        else:\n",
    "            df.loc[c,'mg2'] = np.nan\n",
    "            df.loc[c,'dist2'] = np.nan"
   ]
  },
  {
   "cell_type": "code",
   "execution_count": 24,
   "metadata": {},
   "outputs": [
    {
     "name": "stdout",
     "output_type": "stream",
     "text": [
      "6.81 s ± 321 ms per loop (mean ± std. dev. of 7 runs, 1 loop each)\n"
     ]
    }
   ],
   "source": [
    "%timeit second_attempt_at_abs_mag_and_dist(df)"
   ]
  },
  {
   "cell_type": "markdown",
   "metadata": {},
   "source": [
    "## For loops are sloooow in python\n",
    "\n",
    "But we do need to loop - how do we that? List comprehensions to the rescue!"
   ]
  },
  {
   "cell_type": "code",
   "execution_count": 25,
   "metadata": {},
   "outputs": [],
   "source": [
    "#convert to pandas df and calculate absolute mag\n",
    "def third_attempt_at_abs_mag_and_dist(df):\n",
    "    import numpy as np\n",
    "    import math\n",
    "\n",
    "    apparent_mags = df['phot_g_mean_mag']\n",
    "    parallax = df['parallax']\n",
    "    abs_mags = [mag + 5*math.log10(dist) - 10 if dist > 0 else np.nan \\\n",
    "                for mag, dist in zip(apparent_mags, parallax)]\n",
    "    dists = [1000.0/d if d > 0 else np.nan for d in parallax ]\n",
    "    \n",
    "    df['mg3'] = abs_mags\n",
    "    df['dist3'] = dists"
   ]
  },
  {
   "cell_type": "code",
   "execution_count": 26,
   "metadata": {},
   "outputs": [
    {
     "name": "stdout",
     "output_type": "stream",
     "text": [
      "5.68 ms ± 197 µs per loop (mean ± std. dev. of 7 runs, 100 loops each)\n"
     ]
    }
   ],
   "source": [
    "%timeit third_attempt_at_abs_mag_and_dist(df)"
   ]
  },
  {
   "cell_type": "code",
   "execution_count": 27,
   "metadata": {},
   "outputs": [
    {
     "name": "stdout",
     "output_type": "stream",
     "text": [
      "14.9 ms ± 445 µs per loop (mean ± std. dev. of 7 runs, 100 loops each)\n"
     ]
    }
   ],
   "source": [
    "#convert to pandas df and calculate absolute mag\n",
    "def fourth_attempt_at_abs_mag_and_dist(df):\n",
    "    import numpy as np\n",
    "\n",
    "    apparent_mags = df['phot_g_mean_mag']\n",
    "    parallax = df['parallax']\n",
    "    abs_mags = [mag + 5*np.log10(dist) - 10 if dist > 0 else np.nan for mag, dist in zip(apparent_mags, parallax)]\n",
    "    dists = [1000.0/d if d > 0 else np.nan for d in parallax ]\n",
    "    \n",
    "    df['mg4'] = abs_mags\n",
    "    df['dist4'] = dists\n",
    "\n",
    "%timeit fourth_attempt_at_abs_mag_and_dist(df)"
   ]
  },
  {
   "cell_type": "code",
   "execution_count": 28,
   "metadata": {},
   "outputs": [
    {
     "name": "stderr",
     "output_type": "stream",
     "text": [
      "/Users/msinha/anaconda3/envs/hwsa/lib/python3.6/site-packages/ipykernel_launcher.py:9: RuntimeWarning: invalid value encountered in log10\n",
      "  if __name__ == '__main__':\n"
     ]
    },
    {
     "name": "stdout",
     "output_type": "stream",
     "text": [
      "4.5 ms ± 305 µs per loop (mean ± std. dev. of 7 runs, 100 loops each)\n"
     ]
    }
   ],
   "source": [
    "#convert to pandas df and calculate absolute mag\n",
    "def fifth_attempt_at_abs_mag_and_dist(df):\n",
    "    import pandas as pd\n",
    "    import numpy as np\n",
    "    import math\n",
    "\n",
    "    apparent_mags = df['phot_g_mean_mag']\n",
    "    parallax = df['parallax']\n",
    "    abs_mags = apparent_mags + 5.0*np.log10(parallax) - 10\n",
    "    dist = 1000.0/parallax\n",
    "\n",
    "    bad_inds = (~np.isfinite(parallax) | (parallax <= 0))\n",
    "    abs_mags[bad_inds] = np.nan\n",
    "    dist[bad_inds] = np.nan\n",
    "  \n",
    "    df['mg5'] = abs_mags\n",
    "    df['dist5'] = dist\n",
    "\n",
    "%timeit fifth_attempt_at_abs_mag_and_dist(df)"
   ]
  },
  {
   "cell_type": "code",
   "execution_count": null,
   "metadata": {},
   "outputs": [],
   "source": [
    "#convert to pandas df and calculate absolute mag\n",
    "def sixth_attempt_at_abs_mag_and_dist(df):\n",
    "    import numpy as np\n",
    "\n",
    "    apparent_mags = df['phot_g_mean_mag']\n",
    "    parallax = df['parallax']\n",
    "    \n",
    "    abs_mags = np.full_like(apparent_mags, np.nan)\n",
    "    dist = np.full_like(parallax, np.nan)\n",
    "\n",
    "    good_inds = (np.isfinite(parallax) & (parallax > 0))\n",
    "    abs_mags[good_inds] = apparent_mags[good_inds] + 5.0*np.log10(parallax[good_inds]) - 10\n",
    "    dist[good_inds] = 1000.0/parallax[good_inds]\n",
    "\n",
    "    df['mg6'] = abs_mags\n",
    "    df['dist6'] = dist\n",
    "\n",
    "%timeit sixth_attempt_at_abs_mag_and_dist(df)"
   ]
  },
  {
   "cell_type": "code",
   "execution_count": 34,
   "metadata": {},
   "outputs": [
    {
     "name": "stderr",
     "output_type": "stream",
     "text": [
      "/Users/msinha/anaconda3/envs/hwsa/lib/python3.6/site-packages/ipykernel_launcher.py:3: RuntimeWarning: invalid value encountered in log10\n",
      "  This is separate from the ipykernel package so we can avoid doing imports until\n"
     ]
    },
    {
     "name": "stdout",
     "output_type": "stream",
     "text": [
      "982 µs ± 53.9 µs per loop (mean ± std. dev. of 7 runs, 1000 loops each)\n"
     ]
    }
   ],
   "source": [
    "def add_abs_mag_and_distance(df):\n",
    "    import numpy as np\n",
    "    df['optim_abs_mag'] = df['phot_g_mean_mag'] + 5*np.log10(df['parallax']) - 10\n",
    "    df['optim_dist'] = 1000.0/df['parallax']\n",
    "       \n",
    "%timeit  add_abs_mag_and_distance(df)"
   ]
  },
  {
   "cell_type": "markdown",
   "metadata": {},
   "source": [
    "# Profiling Code (line by line)\n",
    "\n",
    "So far we have written code and timed entire chunks of code. What if you wanted to know how much time each line of your code takes?\n",
    "\n",
    "There is a magic command for that -- `line_profiler`. But now you do have to load this magic command"
   ]
  },
  {
   "cell_type": "code",
   "execution_count": 29,
   "metadata": {},
   "outputs": [],
   "source": [
    "%load_ext line_profiler"
   ]
  },
  {
   "cell_type": "code",
   "execution_count": 30,
   "metadata": {},
   "outputs": [],
   "source": [
    "def second_attempt_at_abs_mag_and_dist(df):\n",
    "    import pandas as pd\n",
    "    import numpy as np\n",
    "    import math\n",
    "\n",
    "    df['mg2'] = 0\n",
    "    df['dist2'] = 0\n",
    "\n",
    "    for c, v in enumerate(df['phot_g_mean_mag']):\n",
    "\n",
    "        p =df.loc[c,'parallax']\n",
    "        if p>0:\n",
    "            df.loc[c,'mg2'] = v + 5 * math.log10(p) - 10\n",
    "            df.loc[c,'dist2'] = 1000/p\n",
    "        else:\n",
    "            df.loc[c,'mg2'] = np.nan\n",
    "            df.loc[c,'dist2'] = np.nan"
   ]
  },
  {
   "cell_type": "code",
   "execution_count": 31,
   "metadata": {},
   "outputs": [],
   "source": [
    "%lprun -f second_attempt_at_abs_mag_and_dist second_attempt_at_abs_mag_and_dist(df)"
   ]
  },
  {
   "cell_type": "code",
   "execution_count": 32,
   "metadata": {},
   "outputs": [],
   "source": [
    "%lprun -f third_attempt_at_abs_mag_and_dist third_attempt_at_abs_mag_and_dist(df)"
   ]
  },
  {
   "cell_type": "code",
   "execution_count": 35,
   "metadata": {},
   "outputs": [
    {
     "name": "stderr",
     "output_type": "stream",
     "text": [
      "/Users/msinha/anaconda3/envs/hwsa/lib/python3.6/site-packages/ipykernel_launcher.py:3: RuntimeWarning: invalid value encountered in log10\n",
      "  This is separate from the ipykernel package so we can avoid doing imports until\n"
     ]
    }
   ],
   "source": [
    "%lprun -f add_abs_mag_and_distance add_abs_mag_and_distance(df)"
   ]
  },
  {
   "cell_type": "markdown",
   "metadata": {},
   "source": [
    "# An application of line-profiling\n",
    "\n",
    "## Finding Unique Values\n",
    "\n",
    "Say you might find the number of unique values in an HUGE array, where potentially many elements are repeated."
   ]
  },
  {
   "cell_type": "code",
   "execution_count": 36,
   "metadata": {},
   "outputs": [],
   "source": [
    "def find_unique_values(arr):\n",
    "    unique_vals = []\n",
    "    \n",
    "    for x in arr:\n",
    "        if x not in unique_vals:\n",
    "            unique_vals.append(x)\n",
    "    \n",
    "    return unique_vals    "
   ]
  },
  {
   "cell_type": "code",
   "execution_count": 39,
   "metadata": {},
   "outputs": [
    {
     "name": "stdout",
     "output_type": "stream",
     "text": [
      "2.46 s ± 69.8 ms per loop (mean ± std. dev. of 7 runs, 1 loop each)\n"
     ]
    }
   ],
   "source": [
    "import numpy as np\n",
    "N = 1000\n",
    "nrepeats = 300\n",
    "dups = np.repeat(np.arange(N), nrepeats)\n",
    "\n",
    "%timeit find_unique_values(dups)"
   ]
  },
  {
   "cell_type": "code",
   "execution_count": 40,
   "metadata": {},
   "outputs": [],
   "source": [
    "%lprun -f find_unique_values find_unique_values(dups)"
   ]
  },
  {
   "cell_type": "markdown",
   "metadata": {},
   "source": [
    "# Exercise\n",
    "\n",
    "Use line-profiler oon this above code and come up with faster solutions (that still use `for` loops). Bonus points for solutions without `for` loops. \n",
    "\n",
    "# Idiomatic python \n",
    "\n",
    "`if x in large_array` is `O(len(large_array))` if `large_array` is a list. Use a `set` for `large_array` instead."
   ]
  },
  {
   "cell_type": "markdown",
   "metadata": {},
   "source": [
    "# How about profiling for memory usage\n",
    "\n",
    "What is the amount of memory required per line of code."
   ]
  },
  {
   "cell_type": "code",
   "execution_count": 41,
   "metadata": {},
   "outputs": [],
   "source": [
    "%load_ext memory_profiler"
   ]
  },
  {
   "cell_type": "code",
   "execution_count": 42,
   "metadata": {},
   "outputs": [
    {
     "name": "stdout",
     "output_type": "stream",
     "text": [
      "Overwriting mprun_demo.py\n"
     ]
    }
   ],
   "source": [
    "%%file mprun_demo.py\n",
    "def read_votable():\n",
    "    from astropy.io.votable import parse_single_table\n",
    "    columns = ['phot_g_mean_mag', 'parallax']\n",
    "    table = parse_single_table(\"async_subset.vot\", columns=columns)\n",
    "    print(\"Done reading table\")\n",
    "    return table.to_table(use_names_over_ids=True)"
   ]
  },
  {
   "cell_type": "code",
   "execution_count": 43,
   "metadata": {},
   "outputs": [
    {
     "name": "stderr",
     "output_type": "stream",
     "text": [
      "WARNING: W27: async_subset.vot:10:2: W27: COOSYS deprecated in VOTable 1.2 [astropy.io.votable.tree]\n",
      "WARNING: W06: async_subset.vot:60:0: W06: Invalid UCD 'arith.ratio': Secondary word 'arith.ratio' is not valid as a primary word [astropy.io.votable.tree]\n",
      "WARNING: W50: async_subset.vot:63:0: W50: Invalid unit string 'mas.yr**-1' [astropy.io.votable.tree]\n",
      "WARNING: W50: async_subset.vot:66:0: W50: Invalid unit string 'mas.yr**-1' [astropy.io.votable.tree]\n",
      "WARNING: W50: async_subset.vot:69:0: W50: Invalid unit string 'mas.yr**-1' [astropy.io.votable.tree]\n",
      "WARNING: W50: async_subset.vot:72:0: W50: Invalid unit string 'mas.yr**-1' [astropy.io.votable.tree]\n",
      "WARNING: W50: async_subset.vot:135:0: W50: Invalid unit string 'mas**-2' [astropy.io.votable.tree]\n",
      "WARNING: W50: async_subset.vot:138:0: W50: Invalid unit string 'um**-1' [astropy.io.votable.tree]\n",
      "WARNING: W06: async_subset.vot:141:0: W06: Invalid UCD 'em.wavenumber;stat.error': Primary word 'stat.error' is not valid as a secondary word [astropy.io.votable.tree]\n",
      "WARNING: W50: async_subset.vot:141:0: W50: Invalid unit string 'um**-1' [astropy.io.votable.tree]\n",
      "WARNING: W06: async_subset.vot:153:0: W06: Invalid UCD 'pos.errorEllipse;stat.max': Secondary word 'pos.errorEllipse' is not valid as a primary word [astropy.io.votable.tree]\n",
      "WARNING: W50: async_subset.vot:168:0: W50: Invalid unit string ''electron'.s**-1' [astropy.io.votable.tree]\n",
      "WARNING: W50: async_subset.vot:171:0: W50: Invalid unit string ''electron'.s**-1' [astropy.io.votable.tree]\n",
      "WARNING: W06: async_subset.vot:174:0: W06: Invalid UCD 'arith.ratio': Secondary word 'arith.ratio' is not valid as a primary word [astropy.io.votable.tree]\n",
      "WARNING: W50: async_subset.vot:183:0: W50: Invalid unit string ''electron'.s**-1' (suppressing further warnings of this type...) [astropy.io.votable.tree]\n",
      "WARNING: W06: async_subset.vot:189:0: W06: Invalid UCD 'arith.ratio': Secondary word 'arith.ratio' is not valid as a primary word [astropy.io.votable.tree]\n",
      "WARNING: W06: async_subset.vot:204:0: W06: Invalid UCD 'arith.ratio': Secondary word 'arith.ratio' is not valid as a primary word [astropy.io.votable.tree]\n",
      "WARNING: W06: async_subset.vot:216:0: W06: Invalid UCD 'phot.color': Unknown word 'phot.color' [astropy.io.votable.tree]\n",
      "WARNING: W06: async_subset.vot:219:0: W06: Invalid UCD 'phot.color': Unknown word 'phot.color' [astropy.io.votable.tree]\n",
      "WARNING: W06: async_subset.vot:222:0: W06: Invalid UCD 'phot.color': Unknown word 'phot.color' [astropy.io.votable.tree]\n",
      "WARNING: W06: async_subset.vot:294:0: W06: Invalid UCD 'phys.size.radius;stat.error': Primary word 'stat.error' is not valid as a secondary word (suppressing further warnings of this type...) [astropy.io.votable.tree]\n"
     ]
    },
    {
     "name": "stdout",
     "output_type": "stream",
     "text": [
      "Done reading table\n",
      "\n"
     ]
    }
   ],
   "source": [
    "from mprun_demo import read_votable\n",
    "%mprun -f read_votable read_votable()"
   ]
  },
  {
   "cell_type": "markdown",
   "metadata": {},
   "source": [
    "# Parallelising code\n",
    "\n",
    "Python, **by design**, will only run in serial. There are a couple of ways you can run code in parallel. Most commonly, you will use the `multiprocessing` module. \n",
    "\n",
    "*Note* `multiprocessing` has a large overhead for creating these new \"processes\". If you are trying to use `multiprocessing` for relatively fast code snippets, then chances are that the \"parallel\" version will be slower."
   ]
  },
  {
   "cell_type": "code",
   "execution_count": 44,
   "metadata": {},
   "outputs": [
    {
     "name": "stdout",
     "output_type": "stream",
     "text": [
      "Number of cpus = 4\n"
     ]
    }
   ],
   "source": [
    "import multiprocessing\n",
    "print(\"Number of cpus = {}\".format(multiprocessing.cpu_count()))"
   ]
  },
  {
   "cell_type": "code",
   "execution_count": 46,
   "metadata": {},
   "outputs": [],
   "source": [
    "try:\n",
    "    xrange\n",
    "except NameError:\n",
    "    xrange = range\n",
    "\n",
    "def squareit(x):\n",
    "    return x*x"
   ]
  },
  {
   "cell_type": "code",
   "execution_count": 47,
   "metadata": {},
   "outputs": [
    {
     "name": "stdout",
     "output_type": "stream",
     "text": [
      "72.4 µs ± 2.19 µs per loop (mean ± std. dev. of 7 runs, 10000 loops each)\n"
     ]
    }
   ],
   "source": [
    "import numpy as np\n",
    "N=100000\n",
    "\n",
    "%timeit squareit(np.arange(N))"
   ]
  },
  {
   "cell_type": "code",
   "execution_count": 48,
   "metadata": {},
   "outputs": [],
   "source": [
    "import multiprocessing\n",
    "nprocs = multiprocessing.cpu_count()"
   ]
  },
  {
   "cell_type": "code",
   "execution_count": 49,
   "metadata": {},
   "outputs": [
    {
     "name": "stdout",
     "output_type": "stream",
     "text": [
      "125 ms ± 662 µs per loop (mean ± std. dev. of 7 runs, 10 loops each)\n"
     ]
    }
   ],
   "source": [
    "%%timeit\n",
    "from multiprocessing import Pool\n",
    "with Pool(processes=nprocs) as pool:\n",
    "    _  = pool.map(squareit, range(N))"
   ]
  },
  {
   "cell_type": "code",
   "execution_count": null,
   "metadata": {},
   "outputs": [],
   "source": [
    "%%timeit \n",
    "\n",
    "from schwimmbad import MultiPool\n",
    "\n",
    "with MultiPool(nprocs) as pool:\n",
    "    _ = list(pool.map(squareit, range(N)))"
   ]
  },
  {
   "cell_type": "code",
   "execution_count": null,
   "metadata": {},
   "outputs": [],
   "source": [
    "import multiprocessing"
   ]
  },
  {
   "cell_type": "code",
   "execution_count": null,
   "metadata": {},
   "outputs": [],
   "source": [
    "%%timeit \n",
    "\n",
    "from schwimmbad import MultiPool\n",
    "\n",
    "with MultiPool(nprocs) as pool:\n",
    "    _ = list(pool.map(squareit, range(N)))"
   ]
  },
  {
   "cell_type": "markdown",
   "metadata": {},
   "source": [
    "# MPI parallelism\n",
    "\n",
    "As long as you can write a function that operates on a certain chunk of the data, then both `multiprocessing` and `MPI` based parallelism are feasible. `mpi4py` is a convenient package that lets you use a supercomputer cluster, and in theory, your code can run significantly faster (limited by the number of cores on your supercomputer). \n",
    "\n",
    "I would recommend using the `schwimmbad` package to transparently use both `MPI` and `multiprocessing` based parallelism. "
   ]
  },
  {
   "cell_type": "markdown",
   "metadata": {},
   "source": [
    "# Advanced Track \n",
    "\n",
    "\n",
    "## Challenge #1: Difficulty Rating - *Medium*\n",
    "\n",
    "Perform the entire operation of calculating `absolute-mag` and `distance` in parallel. First, create the parallel interface with `multiprocessing`, and then create an MPI parallel implementation with `mpi4py`.\n",
    "\n",
    "Hint: Use the package `schwimmbad` for a customisable solution. \n",
    "\n",
    "\n",
    "## Challenge #2: Difficulty Rating - *Easy*\n",
    "\n",
    "There is an open issue on the astropy repo [issue no 8946](https://github.com/astropy/astropy/issues/8946). Figure out what causes the high-memory usage. \n",
    "\n",
    "Hint: You will need `mem_profiler` for the first challenge\n",
    "\n",
    "\n",
    "## Challenge #3: Difficulty Rating - *Medium*\n",
    "\n",
    "Open a pull-request to fix [issue no 8946](https://github.com/astropy/astropy/issues/8946)\n",
    "\n",
    "\n",
    "## Challenge #4: Difficulty Rating - *Ninja*\n",
    "\n",
    "Open a pull-request to fix [issue no 8946](https://github.com/astropy/astropy/issues/8946) *AND* to read-in only some *Nrows* of data (i.e., add a new keyword). Any addition must maintain backwards compatibility. \n",
    "\n",
    "**Disclaimer** (MS) I do not know how to do this. If you are (interested in) attempting this, please let me know - I can put you in touch with astropy developers."
   ]
  },
  {
   "cell_type": "code",
   "execution_count": null,
   "metadata": {},
   "outputs": [],
   "source": []
  }
 ],
 "metadata": {
  "kernelspec": {
   "display_name": "Python 3",
   "language": "python",
   "name": "python3"
  },
  "language_info": {
   "codemirror_mode": {
    "name": "ipython",
    "version": 3
   },
   "file_extension": ".py",
   "mimetype": "text/x-python",
   "name": "python",
   "nbconvert_exporter": "python",
   "pygments_lexer": "ipython3",
   "version": "3.6.7"
  }
 },
 "nbformat": 4,
 "nbformat_minor": 2
}
