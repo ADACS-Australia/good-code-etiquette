{
 "cells": [
  {
   "cell_type": "markdown",
   "metadata": {},
   "source": [
    "# Harley Wood School for Astronomy 2019 \n",
    "\n",
    "<img src=\"https://research.smp.uq.edu.au/asa2019/static/asa19/img/HWSA2019-logo.png\" width=300>\n",
    "\n",
    "## Part IV - Timing and profiling code snippets to help write faster code\n",
    "\n",
    "In this session, you will learn how to measure the runtime \n",
    "\n",
    "\n",
    "## Table of Contents\n",
    "\n",
    "1. [When and What to Optimise](#When-and-what-to-optimise)\n",
    "2. [Timing Code Snippets](#Timing-code-snippets)\n",
    "3. [Profiling-code](#Profiling-code-line-by-line)\n",
    "4. [Advanced Track](#Advanced-Track)\n",
    "\n",
    "\n",
    "### Required libraries\n",
    "\n",
    "This notebook uses several Python packages that come standard with the [Anaconda Python distribution](http://continuum.io/downloads). The primary libraries that we'll be using are:\n",
    "\n",
    "* **astropy**\n",
    "* **numpy**\n",
    "* **pandas**\n",
    "* **line_profiler**\n",
    "* **memory_profiler**\n",
    "\n",
    "If you have created a new environment with `conda env create -f hwsa-environment.yml`, then you are all set. If not, To make sure you have all of the packages you need, install them with `conda`:\n",
    "\n",
    "    conda install [package name]\n",
    "    \n",
    "`conda` may ask you to update some of the packages if you don't have the most recent version. Allow it to do so.\n",
    "\n",
    "Alternatively, if you can install the packages with [pip](https://pip.pypa.io/en/stable/installing/) (a Python package manager):\n",
    "\n",
    "    pip install [package name]\n",
    "    \n",
    "Be sure to restart your kernel if you had to install new packages."
   ]
  },
  {
   "cell_type": "markdown",
   "metadata": {},
   "source": [
    "# When and What to Optimise\n",
    "\n",
    "\n",
    "**Code is read far more frequently than written**\n",
    "\n",
    "Optimisation mantras:\n",
    "\n",
    "1. [Obligatory XKCD](https://xkcd.com/1205/)\n",
    "\n",
    "2. Do not optimise unless you have to (your time is *the most precious*)\n",
    "\n",
    "3. Optimise for readability (imagine very cranky future developers, and reduce their cognitive load)\n",
    "\n",
    "4. Variety of optimisations \n",
    "    - Readability\n",
    "    - Usability\n",
    "    - Performance   \n",
    "    - Memory\n",
    "    - Lines of code (code-golf)\n",
    "    \n",
    "5. Remember, every line of code is a potential source of bugs, and future maintenance head-aches. Choose wisely!    \n",
    "\n"
   ]
  },
  {
   "cell_type": "markdown",
   "metadata": {},
   "source": [
    "# Timing Code Snippets\n",
    "\n",
    "`timeit` magic command is absolutely essential to quantify how long a code takes to run. What are the challenges to timing a piece of code you say?\n",
    "\n",
    "- Ensure that the timing is representative of the average case\n",
    "- Get some sense of the scatter in the runtimes\n",
    "\n",
    "`timeit` will repeat a chunk of code some *N* times till a stable runtime measurement is reached. Lots of customisable options -- see the manual [here](https://docs.python.org/3/library/timeit.html)\n"
   ]
  },
  {
   "cell_type": "code",
   "execution_count": null,
   "metadata": {},
   "outputs": [],
   "source": [
    "#%%timeit\n",
    "#read data \n",
    "#from astropy.io.votable import parse_single_table\n",
    "#table = parse_single_table(\"async_20190630210155.vot\")\n",
    "#t = table.to_table(use_names_over_ids=True)"
   ]
  },
  {
   "cell_type": "markdown",
   "metadata": {},
   "source": [
    "# That takes a LOOOONG time\n",
    "\n",
    "Can we reduce the total read time? Perhaps we can only read-in the specific columns that we *need*"
   ]
  },
  {
   "cell_type": "code",
   "execution_count": null,
   "metadata": {},
   "outputs": [],
   "source": [
    "%load_ext memory_profiler"
   ]
  },
  {
   "cell_type": "code",
   "execution_count": 1,
   "metadata": {},
   "outputs": [
    {
     "name": "stderr",
     "output_type": "stream",
     "text": [
      "WARNING: W35: async_20190630210155.vot:5:0: W35: 'value' attribute required for INFO elements [astropy.io.votable.tree]\n",
      "WARNING: W35: async_20190630210155.vot:6:0: W35: 'value' attribute required for INFO elements [astropy.io.votable.tree]\n",
      "WARNING: W35: async_20190630210155.vot:7:0: W35: 'value' attribute required for INFO elements [astropy.io.votable.tree]\n",
      "WARNING: W35: async_20190630210155.vot:8:0: W35: 'value' attribute required for INFO elements [astropy.io.votable.tree]\n",
      "WARNING: W35: async_20190630210155.vot:10:0: W35: 'value' attribute required for INFO elements [astropy.io.votable.tree]\n",
      "WARNING: W27: async_20190630210155.vot:11:0: W27: COOSYS deprecated in VOTable 1.2 [astropy.io.votable.tree]\n",
      "WARNING: W06: async_20190630210155.vot:47:0: W06: Invalid UCD 'arith.ratio': Secondary word 'arith.ratio' is not valid as a primary word [astropy.io.votable.tree]\n",
      "WARNING: W50: async_20190630210155.vot:50:0: W50: Invalid unit string 'mas.yr**-1' [astropy.io.votable.tree]\n",
      "WARNING: W50: async_20190630210155.vot:53:0: W50: Invalid unit string 'mas.yr**-1' [astropy.io.votable.tree]\n",
      "WARNING: W50: async_20190630210155.vot:56:0: W50: Invalid unit string 'mas.yr**-1' [astropy.io.votable.tree]\n",
      "WARNING: W50: async_20190630210155.vot:59:0: W50: Invalid unit string 'mas.yr**-1' [astropy.io.votable.tree]\n",
      "WARNING: W50: async_20190630210155.vot:122:0: W50: Invalid unit string 'mas**-2' [astropy.io.votable.tree]\n",
      "WARNING: W50: async_20190630210155.vot:125:0: W50: Invalid unit string 'um**-1' [astropy.io.votable.tree]\n",
      "WARNING: W06: async_20190630210155.vot:128:0: W06: Invalid UCD 'em.wavenumber;stat.error': Primary word 'stat.error' is not valid as a secondary word [astropy.io.votable.tree]\n",
      "WARNING: W50: async_20190630210155.vot:128:0: W50: Invalid unit string 'um**-1' [astropy.io.votable.tree]\n",
      "WARNING: W06: async_20190630210155.vot:140:0: W06: Invalid UCD 'pos.errorEllipse;stat.max': Secondary word 'pos.errorEllipse' is not valid as a primary word [astropy.io.votable.tree]\n",
      "WARNING: W50: async_20190630210155.vot:155:0: W50: Invalid unit string ''electron'.s**-1' [astropy.io.votable.tree]\n",
      "WARNING: W50: async_20190630210155.vot:158:0: W50: Invalid unit string ''electron'.s**-1' [astropy.io.votable.tree]\n",
      "WARNING: W06: async_20190630210155.vot:161:0: W06: Invalid UCD 'arith.ratio': Secondary word 'arith.ratio' is not valid as a primary word [astropy.io.votable.tree]\n",
      "WARNING: W50: async_20190630210155.vot:170:0: W50: Invalid unit string ''electron'.s**-1' (suppressing further warnings of this type...) [astropy.io.votable.tree]\n",
      "WARNING: W06: async_20190630210155.vot:176:0: W06: Invalid UCD 'arith.ratio': Secondary word 'arith.ratio' is not valid as a primary word [astropy.io.votable.tree]\n",
      "WARNING: W06: async_20190630210155.vot:191:0: W06: Invalid UCD 'arith.ratio': Secondary word 'arith.ratio' is not valid as a primary word [astropy.io.votable.tree]\n",
      "WARNING: W06: async_20190630210155.vot:203:0: W06: Invalid UCD 'phot.color': Unknown word 'phot.color' [astropy.io.votable.tree]\n",
      "WARNING: W06: async_20190630210155.vot:206:0: W06: Invalid UCD 'phot.color': Unknown word 'phot.color' [astropy.io.votable.tree]\n",
      "WARNING: W06: async_20190630210155.vot:209:0: W06: Invalid UCD 'phot.color': Unknown word 'phot.color' [astropy.io.votable.tree]\n",
      "WARNING: W06: async_20190630210155.vot:281:0: W06: Invalid UCD 'phys.size.radius;stat.error': Primary word 'stat.error' is not valid as a secondary word (suppressing further warnings of this type...) [astropy.io.votable.tree]\n"
     ]
    },
    {
     "name": "stdout",
     "output_type": "stream",
     "text": [
      "Done reading table\n",
      "CPU times: user 20min 31s, sys: 41 s, total: 21min 12s\n",
      "Wall time: 22min 13s\n"
     ]
    }
   ],
   "source": [
    "%%time\n",
    "#read data \n",
    "if not table:\n",
    "    from astropy.io.votable import parse_single_table\n",
    "    columns = ['phot_g_mean_mag', 'parallax']\n",
    "    table = parse_single_table(\"async_20190630210155.vot\", columns=columns)\n",
    "    print(\"Done reading table\")\n",
    "\n",
    "t = table.to_table(use_names_over_ids=True)"
   ]
  },
  {
   "cell_type": "code",
   "execution_count": null,
   "metadata": {},
   "outputs": [],
   "source": [
    "%%file mprun_demo.py\n",
    "def read_votable():\n",
    "    if not table:\n",
    "        from astropy.io.votable import parse_single_table\n",
    "        columns = ['phot_g_mean_mag', 'parallax']\n",
    "        table = parse_single_table(\"async_20190630210155.vot\", columns=columns)\n",
    "        print(\"Done reading table\")\n",
    "    return table.to_table(use_names_over_ids=True)"
   ]
  },
  {
   "cell_type": "code",
   "execution_count": null,
   "metadata": {},
   "outputs": [],
   "source": [
    "from mprun_demo import read_votable\n",
    "%mprun -f read_votable read_votable()"
   ]
  },
  {
   "cell_type": "code",
   "execution_count": null,
   "metadata": {},
   "outputs": [],
   "source": [
    "from mprun_demo import read_votable\n",
    "%lprun -f read_votable read_votable()"
   ]
  },
  {
   "cell_type": "markdown",
   "metadata": {},
   "source": [
    "# (After some time) now we have the data. \n"
   ]
  },
  {
   "cell_type": "code",
   "execution_count": 3,
   "metadata": {},
   "outputs": [
    {
     "name": "stdout",
     "output_type": "stream",
     "text": [
      "CPU times: user 2.13 s, sys: 2.36 s, total: 4.49 s\n",
      "Wall time: 4.74 s\n"
     ]
    }
   ],
   "source": [
    "%%time\n",
    "df = t.to_pandas()\n",
    "\n",
    "#check the data frame\n",
    "df.head()"
   ]
  },
  {
   "cell_type": "code",
   "execution_count": null,
   "metadata": {},
   "outputs": [],
   "source": [
    "%%timeit\n",
    "#convert to pandas df and calculate absolute mag\n",
    "import numpy as np\n",
    "from math import log10\n",
    "\n",
    "df['mg'] = 0\n",
    "df['dist'] = 0\n",
    "\n",
    "for c, v in enumerate(df['phot_g_mean_mag']):\n",
    "    \n",
    "    p =df.loc[c,'parallax']\n",
    "    if p>0:\n",
    "        df.loc[c,'mg'] = v + 5 * log10(p) - 10\n",
    "        df.loc[c,'dist'] = 1000/p\n",
    "    else:\n",
    "        df.loc[c,'mg'] = np.nan\n",
    "        df.loc[c,'dist'] = np.nan"
   ]
  },
  {
   "cell_type": "markdown",
   "metadata": {},
   "source": [
    "# For loops are slow\n",
    "\n",
    "\n",
    "\n"
   ]
  },
  {
   "cell_type": "code",
   "execution_count": 1,
   "metadata": {},
   "outputs": [],
   "source": [
    "def basic_list_creation(N):    \n",
    "    squares = []\n",
    "    for x in range(N):\n",
    "        squares.append(x**2)\n",
    "        \n",
    "    return squares"
   ]
  },
  {
   "cell_type": "code",
   "execution_count": 6,
   "metadata": {},
   "outputs": [],
   "source": [
    "def list_comprehension(N):\n",
    "    squares = [x**2 for x in range(N)]\n",
    "    return squares"
   ]
  },
  {
   "cell_type": "code",
   "execution_count": 26,
   "metadata": {},
   "outputs": [],
   "source": [
    "def prealloc_list(N):\n",
    "    squares = [0]*N\n",
    "    for i in range(N):\n",
    "        squares[i] = i*i"
   ]
  },
  {
   "cell_type": "code",
   "execution_count": 19,
   "metadata": {},
   "outputs": [],
   "source": [
    "N = 10000000"
   ]
  },
  {
   "cell_type": "code",
   "execution_count": 20,
   "metadata": {},
   "outputs": [
    {
     "name": "stdout",
     "output_type": "stream",
     "text": [
      "3.36 s ± 263 ms per loop (mean ± std. dev. of 7 runs, 1 loop each)\n"
     ]
    }
   ],
   "source": [
    "%timeit basic_list_creation(N)"
   ]
  },
  {
   "cell_type": "code",
   "execution_count": 21,
   "metadata": {},
   "outputs": [
    {
     "name": "stdout",
     "output_type": "stream",
     "text": [
      "2.74 s ± 69.4 ms per loop (mean ± std. dev. of 7 runs, 1 loop each)\n"
     ]
    }
   ],
   "source": [
    "%timeit list_comprehension(N)"
   ]
  },
  {
   "cell_type": "code",
   "execution_count": 27,
   "metadata": {},
   "outputs": [
    {
     "name": "stdout",
     "output_type": "stream",
     "text": [
      "949 ms ± 49.3 ms per loop (mean ± std. dev. of 7 runs, 1 loop each)\n"
     ]
    }
   ],
   "source": [
    "%timeit prealloc_list(N)"
   ]
  },
  {
   "cell_type": "code",
   "execution_count": 32,
   "metadata": {},
   "outputs": [],
   "source": [
    "def numpy_squares(N):\n",
    "    import numpy as np\n",
    "    squares = np.empty(N)\n",
    "    for i in range(N):\n",
    "        squares[i] = i*i"
   ]
  },
  {
   "cell_type": "code",
   "execution_count": 25,
   "metadata": {},
   "outputs": [
    {
     "name": "stdout",
     "output_type": "stream",
     "text": [
      "1.33 s ± 82.6 ms per loop (mean ± std. dev. of 7 runs, 1 loop each)\n"
     ]
    }
   ],
   "source": [
    "%timeit numpy_squares(N)"
   ]
  },
  {
   "cell_type": "code",
   "execution_count": 30,
   "metadata": {},
   "outputs": [],
   "source": [
    "# For advanced users -> implement this function. Extra points if you can make `numpy_only` more than 20x faster\n",
    "def numpy_only(N):\n",
    "    pass\n",
    "    "
   ]
  },
  {
   "cell_type": "code",
   "execution_count": 31,
   "metadata": {},
   "outputs": [
    {
     "name": "stdout",
     "output_type": "stream",
     "text": [
      "48.2 ms ± 1.27 ms per loop (mean ± std. dev. of 7 runs, 10 loops each)\n"
     ]
    }
   ],
   "source": [
    "%timeit numpy_only(N)"
   ]
  },
  {
   "cell_type": "code",
   "execution_count": null,
   "metadata": {},
   "outputs": [],
   "source": [
    "def second_attempt_at_abs_mag_and_dist(df):\n",
    "    import pandas as pd\n",
    "    import numpy as np\n",
    "    import math\n",
    "\n",
    "    df['mg2'] = 0\n",
    "    df['dist2'] = 0\n",
    "\n",
    "    for c, v in enumerate(df['phot_g_mean_mag']):\n",
    "\n",
    "        p =df.loc[c,'parallax']\n",
    "        if p>0:\n",
    "            df.loc[c,'mg2'] = v + 5 * math.log10(p) - 10\n",
    "            df.loc[c,'dist2'] = 1000/p\n",
    "        else:\n",
    "            df.loc[c,'mg2'] = np.nan\n",
    "            df.loc[c,'dist2'] = np.nan\n",
    "\n",
    "%prun second_attempt_at_abs_mag_and_dist(df)"
   ]
  },
  {
   "cell_type": "code",
   "execution_count": 33,
   "metadata": {},
   "outputs": [],
   "source": [
    "#convert to pandas df and calculate absolute mag\n",
    "def second_attempt_at_abs_mag_and_dist(df):\n",
    "    import pandas as pd\n",
    "    import numpy as np\n",
    "    import math\n",
    "\n",
    "    df['mg2'] = 0\n",
    "    df['dist2'] = 0\n",
    "\n",
    "    for c, v in enumerate(df['phot_g_mean_mag']):\n",
    "\n",
    "        p =df.loc[c,'parallax']\n",
    "        if p>0:\n",
    "            df.loc[c,'mg2'] = v + 5 * np.log10(p) - 10\n",
    "            df.loc[c,'dist2'] = 1000/p\n",
    "        else:\n",
    "            df.loc[c,'mg2'] = np.nan\n",
    "            df.loc[c,'dist2'] = np.nan\n",
    "\n",
    "#%timeit second_attempt_at_abs_mag_and_dist(df)"
   ]
  },
  {
   "cell_type": "code",
   "execution_count": 34,
   "metadata": {},
   "outputs": [
    {
     "name": "stdout",
     "output_type": "stream",
     "text": [
      "*** KeyboardInterrupt exception caught in code being profiled."
     ]
    }
   ],
   "source": [
    "%lprun -f second_attempt_at_abs_mag_and_dist second_attempt_at_abs_mag_and_dist(df)"
   ]
  },
  {
   "cell_type": "markdown",
   "metadata": {},
   "source": [
    "# For loops are sloooow in python\n",
    "\n",
    "But we do need to loop - how do we that? List comprehensions to the rescue!"
   ]
  },
  {
   "cell_type": "code",
   "execution_count": 40,
   "metadata": {},
   "outputs": [],
   "source": [
    "#convert to pandas df and calculate absolute mag\n",
    "def third_attempt_at_abs_mag_and_dist(df):\n",
    "    import numpy as np\n",
    "    import math\n",
    "\n",
    "    apparent_mags = df['phot_g_mean_mag']\n",
    "    parallax = df['parallax']\n",
    "    abs_mags = [mag + 5*math.log10(dist) - 10 if dist > 0 else np.nan for mag, dist in zip(apparent_mags, parallax)]\n",
    "    dists = [1000.0/d if d > 0 else np.nan for d in parallax ]\n",
    "    \n",
    "    df['mg3'] = abs_mags\n",
    "    df['dist3'] = dists\n"
   ]
  },
  {
   "cell_type": "code",
   "execution_count": 41,
   "metadata": {},
   "outputs": [
    {
     "name": "stdout",
     "output_type": "stream",
     "text": [
      "<class 'pandas.core.series.Series'>\n"
     ]
    }
   ],
   "source": [
    "%lprun -f third_attempt_at_abs_mag_and_dist third_attempt_at_abs_mag_and_dist(df)"
   ]
  },
  {
   "cell_type": "code",
   "execution_count": 42,
   "metadata": {},
   "outputs": [
    {
     "name": "stdout",
     "output_type": "stream",
     "text": [
      "<class 'pandas.core.series.Series'>\n",
      "<class 'pandas.core.series.Series'>\n",
      "<class 'pandas.core.series.Series'>\n",
      "<class 'pandas.core.series.Series'>\n",
      "<class 'pandas.core.series.Series'>\n",
      "<class 'pandas.core.series.Series'>\n",
      "<class 'pandas.core.series.Series'>\n",
      "<class 'pandas.core.series.Series'>\n",
      "2.03 s ± 15.4 ms per loop (mean ± std. dev. of 7 runs, 1 loop each)\n"
     ]
    }
   ],
   "source": [
    "%timeit third_attempt_at_abs_mag_and_dist(df)"
   ]
  },
  {
   "cell_type": "code",
   "execution_count": null,
   "metadata": {},
   "outputs": [],
   "source": [
    "#convert to pandas df and calculate absolute mag\n",
    "def fourth_attempt_at_abs_mag_and_dist(df):\n",
    "    import numpy as np\n",
    "\n",
    "    apparent_mags = df['phot_g_mean_mag'].to_numpy()\n",
    "    parallax = df['parallax'].to_numpy()\n",
    "    abs_mags = [mag + 5*np.log10(dist) - 10 if dist > 0 else np.nan for mag, dist in zip(apparent_mags, parallax)]\n",
    "    dists = [1000.0/d if d > 0 else np.nan for d in parallax ]\n",
    "    \n",
    "    df['mg4'] = abs_mags\n",
    "    df['dist4'] = dists\n",
    "\n",
    "%timeit fourth_attempt_at_abs_mag_and_dist(df)"
   ]
  },
  {
   "cell_type": "code",
   "execution_count": 44,
   "metadata": {},
   "outputs": [
    {
     "name": "stderr",
     "output_type": "stream",
     "text": [
      "/Users/msinha/anaconda3/envs/hwsa/lib/python3.6/site-packages/ipykernel_launcher.py:9: RuntimeWarning: invalid value encountered in log10\n",
      "  if __name__ == '__main__':\n",
      "/Users/msinha/anaconda3/envs/hwsa/lib/python3.6/site-packages/ipykernel_launcher.py:12: RuntimeWarning: invalid value encountered in less_equal\n",
      "  if sys.path[0] == '':\n"
     ]
    },
    {
     "name": "stdout",
     "output_type": "stream",
     "text": [
      "93.9 ms ± 927 µs per loop (mean ± std. dev. of 7 runs, 10 loops each)\n"
     ]
    }
   ],
   "source": [
    "#convert to pandas df and calculate absolute mag\n",
    "def fifth_attempt_at_abs_mag_and_dist(df):\n",
    "    import pandas as pd\n",
    "    import numpy as np\n",
    "    import math\n",
    "\n",
    "    apparent_mags = df['phot_g_mean_mag'].to_numpy()\n",
    "    parallax = df['parallax'].to_numpy()\n",
    "    abs_mags = apparent_mags + 5.0*np.log10(parallax) - 10\n",
    "    dist = 1000.0/parallax\n",
    "\n",
    "    bad_inds = (~np.isfinite(parallax) | (parallax <= 0))\n",
    "    abs_mags[bad_inds] = np.nan\n",
    "    dist[bad_inds] = np.nan\n",
    "  \n",
    "    df['mg5'] = abs_mags\n",
    "    df['dist5'] = dist\n",
    "\n",
    "%timeit fifth_attempt_at_abs_mag_and_dist(df)"
   ]
  },
  {
   "cell_type": "code",
   "execution_count": 45,
   "metadata": {},
   "outputs": [
    {
     "name": "stderr",
     "output_type": "stream",
     "text": [
      "/Users/msinha/anaconda3/envs/hwsa/lib/python3.6/site-packages/ipykernel_launcher.py:11: RuntimeWarning: invalid value encountered in greater\n",
      "  # This is added back by InteractiveShellApp.init_path()\n"
     ]
    },
    {
     "name": "stdout",
     "output_type": "stream",
     "text": [
      "133 ms ± 2.29 ms per loop (mean ± std. dev. of 7 runs, 10 loops each)\n"
     ]
    }
   ],
   "source": [
    "#convert to pandas df and calculate absolute mag\n",
    "def sixth_attempt_at_abs_mag_and_dist(df):\n",
    "    import numpy as np\n",
    "\n",
    "    apparent_mags = df['phot_g_mean_mag'].to_numpy()\n",
    "    parallax = df['parallax'].to_numpy()\n",
    "    \n",
    "    abs_mags = np.full_like(apparent_mags, np.nan)\n",
    "    dist = np.full_like(parallax, np.nan)\n",
    "\n",
    "    good_inds = (np.isfinite(parallax) & (parallax > 0))\n",
    "    abs_mags[good_inds] = apparent_mags[good_inds] + 5.0*np.log10(parallax[good_inds]) - 10\n",
    "    dist[good_inds] = 1000.0/parallax[good_inds]\n",
    "\n",
    "    df['mg6'] = abs_mags\n",
    "    df['dist6'] = dist\n",
    "\n",
    "%timeit sixth_attempt_at_abs_mag_and_dist(df)"
   ]
  },
  {
   "cell_type": "code",
   "execution_count": 46,
   "metadata": {},
   "outputs": [
    {
     "name": "stderr",
     "output_type": "stream",
     "text": [
      "/Users/msinha/anaconda3/envs/hwsa/lib/python3.6/site-packages/ipykernel_launcher.py:3: RuntimeWarning: invalid value encountered in log10\n",
      "  This is separate from the ipykernel package so we can avoid doing imports until\n"
     ]
    },
    {
     "name": "stdout",
     "output_type": "stream",
     "text": [
      "88.6 ms ± 2.66 ms per loop (mean ± std. dev. of 7 runs, 10 loops each)\n"
     ]
    }
   ],
   "source": [
    "def add_abs_mag_and_distance(df):\n",
    "    import numpy as np\n",
    "    df['optim_abs_mag'] = df['phot_g_mean_mag'] + 5*np.log10(df['parallax']) - 10\n",
    "    df['optim_dist'] = 1000.0/df['parallax']\n",
    "       \n",
    "%timeit  add_abs_mag_and_distance(df)"
   ]
  },
  {
   "cell_type": "markdown",
   "metadata": {},
   "source": [
    "# Profiling Code (line by line)\n",
    "\n",
    "\n"
   ]
  },
  {
   "cell_type": "code",
   "execution_count": 23,
   "metadata": {},
   "outputs": [],
   "source": [
    "%reload_ext line_profiler"
   ]
  },
  {
   "cell_type": "code",
   "execution_count": null,
   "metadata": {},
   "outputs": [],
   "source": [
    "def second_attempt_at_abs_mag_and_dist(df):\n",
    "    import pandas as pd\n",
    "    import numpy as np\n",
    "\n",
    "    df['mg2'] = 0\n",
    "    df['dist2'] = 0\n",
    "\n",
    "    for c, v in enumerate(df['phot_g_mean_mag']):\n",
    "\n",
    "        p =df.loc[c,'parallax']\n",
    "        if p>0:\n",
    "            df.loc[c,'mg2'] = v + 5 * log10(p) - 10\n",
    "            df.loc[c,'dist2'] = 1000/p\n",
    "        else:\n",
    "            df.loc[c,'mg2'] = np.nan\n",
    "            df.loc[c,'dist2'] = np.nan"
   ]
  },
  {
   "cell_type": "code",
   "execution_count": null,
   "metadata": {},
   "outputs": [],
   "source": [
    "%lprun -f second_attempt_at_abs_mag_and_dist second_attempt_at_abs_mag_and_dist(df)"
   ]
  },
  {
   "cell_type": "markdown",
   "metadata": {},
   "source": [
    "# Advanced Track \n",
    "\n",
    "\n",
    "## Challenge #1: Difficulty Rating - *Easy*\n",
    "\n",
    "There is an open issue on the astropy repo [issue no 8946](https://github.com/astropy/astropy/issues/8946). See if you figure out what causes the high-memory usage. \n",
    "\n",
    "Hint: You will need `mem_profiler` for the first challenge\n",
    "\n",
    "## Challenge #2: Difficulty Rating - *Medium*\n",
    "\n",
    "Perform the entire operation in parallel. First, create the parallel interface with `multiprocessing`, and then create an MPI parallel implementation with `mpi4py`.\n",
    "\n",
    "Hint: Use the package `schwimbadd` for a customisable solution. \n",
    "\n",
    "## Challenge #3: Difficulty Rating - *Medium*\n",
    "\n",
    "Open a pull-request to fix [issue no 8946](https://github.com/astropy/astropy/issues/8946)\n",
    "\n",
    "## Challenge #4: Difficulty Rating - *Ninja*\n",
    "\n",
    "Open a pull-request to fix [issue no 8946](https://github.com/astropy/astropy/issues/8946) *AND* to read-in only some *Nrows* of data (i.e., add a new keyword). Any addition must maintain backwards compatibility. \n",
    "\n",
    "**Disclaimer** (MS) I do not know how to do this. If you are (interested in) attempting this, please let me know - I can put you in touch with astropy developers that would"
   ]
  },
  {
   "cell_type": "code",
   "execution_count": 54,
   "metadata": {},
   "outputs": [],
   "source": [
    "df.to_pickle(\"async_20190630210155.pkl\")"
   ]
  },
  {
   "cell_type": "code",
   "execution_count": null,
   "metadata": {},
   "outputs": [],
   "source": []
  }
 ],
 "metadata": {
  "kernelspec": {
   "display_name": "Python 3",
   "language": "python",
   "name": "python3"
  },
  "language_info": {
   "codemirror_mode": {
    "name": "ipython",
    "version": 3
   },
   "file_extension": ".py",
   "mimetype": "text/x-python",
   "name": "python",
   "nbconvert_exporter": "python",
   "pygments_lexer": "ipython3",
   "version": "3.6.7"
  }
 },
 "nbformat": 4,
 "nbformat_minor": 2
}
