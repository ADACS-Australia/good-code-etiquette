{
 "cells": [
  {
   "cell_type": "markdown",
   "metadata": {},
   "source": [
    "# Using functions to reduce code repetition\n",
    "\n",
    "This code evolved over time, and the eventual state has me printing the velocity in multiple places with different formats. This triggers my OCD, but also isn't good practice."
   ]
  },
  {
   "cell_type": "code",
   "execution_count": null,
   "metadata": {},
   "outputs": [],
   "source": [
    "# Example code with lots of repetition of similar tasks\n",
    "\n",
    "print(\"Velocty is 12 m/s\")\n",
    "\n",
    "velocity = 12 #m/s\n",
    "print(\"velocity: {0} km/h\".format(velocity /1e3*60*60))\n",
    "\n",
    "# then some time later on...\n",
    "velocity = 15\n",
    "\n",
    "# ....\n",
    "\n",
    "print(\"Velocity is {0} km/s\".format(velocity *1e3*60*60))"
   ]
  },
  {
   "cell_type": "markdown",
   "metadata": {},
   "source": [
    "Change the above to have uniform formatting and units and to be correct.\n",
    "\n",
    "How many places did you need to look to make sure you got all the errors?\n",
    "\n",
    "Now imagine that you have pages and pages of code - not so nice."
   ]
  },
  {
   "cell_type": "markdown",
   "metadata": {},
   "source": [
    "# DRY your code\n",
    "\n",
    "In the example below we take the common task of printing the velocity and put it into a function. This means there is only one place we need to look for errors, to make changes, and we get consistent output (though in this example it's currently wrong!).\n",
    "\n",
    "Removing the repeated code is the essence of DRY programming."
   ]
  },
  {
   "cell_type": "code",
   "execution_count": null,
   "metadata": {},
   "outputs": [],
   "source": [
    "MS_TO_KMH = 1e3/3600 # *multiplicative* factor to convert m/s into km/h\n",
    "\n",
    "def print_velocity(vel):\n",
    "    \"\"\"\n",
    "    Prints the velocity in a standard format in km/h.\n",
    "    \n",
    "    Parameters\n",
    "    ----------\n",
    "    vel: float\n",
    "        velocity in m/s\n",
    "    \"\"\"\n",
    "    print(\"Velocity is {0} km/h\".format(vel*MS_TO_KMH))\n",
    "\n",
    "# one time use\n",
    "print_velocity(12.0)\n",
    "\n",
    "# later on in a loop maybe?\n",
    "velocity = 12\n",
    "print_velocity(velocity)\n",
    "\n",
    "# do some wrangling and calculations that result in:\n",
    "velocity = 15\n",
    "# and then later ...\n",
    "print_velocity(velocity)"
   ]
  },
  {
   "cell_type": "markdown",
   "metadata": {},
   "source": [
    "Change the above code so that the formatting looks like 43.2 km/h, and so that it actually gives the right result."
   ]
  },
  {
   "cell_type": "markdown",
   "metadata": {},
   "source": [
    "# DRO ? (don't repeat others)\n",
    "\n",
    "Now we have an example where we are writing some rather nice code that creates a diagonal matrix for us. This is a simple task so we are confident we can ge the right answer, and we do."
   ]
  },
  {
   "cell_type": "code",
   "execution_count": null,
   "metadata": {},
   "outputs": [],
   "source": [
    "# Example code that creates a square diagonal matrix of 0...N\n",
    "N = 5\n",
    "mat=[]\n",
    "for i in range(N):\n",
    "    #add an empty row\n",
    "    mat.append([])\n",
    "    for j in range(N):\n",
    "        val = 0\n",
    "        if i==j:\n",
    "            val = j\n",
    "        # fill the row\n",
    "        mat[i].append(val)\n",
    "        \n",
    "print(mat)"
   ]
  },
  {
   "cell_type": "markdown",
   "metadata": {},
   "source": [
    "Now change the above code so that the data are floats instead of ints.\n",
    "\n",
    "How many changes were required?\n",
    "\n",
    "Maybe we should write a function to do this, and set the data type as one of the parameters. That would be nice and DRY!\n",
    "\n",
    "However, this is such a basic task that surely someone has done it before right?\n",
    "\n",
    "Right! The nice folks who brought us numpy have done all the hard work for us:\n",
    "- debugging\n",
    "- adding flexibility\n",
    "- pretty printing of results\n",
    "- lots of documentation and examples\n",
    "- optimizing the code so it's fast (some is in C or Fortran)\n",
    "\n",
    "So lets save ourselves some time and effort and not repeat others.\n",
    "\n",
    "\n"
   ]
  },
  {
   "cell_type": "code",
   "execution_count": null,
   "metadata": {},
   "outputs": [],
   "source": [
    "# Example code that does the same but doesn't require maintenance\n",
    "import numpy as np\n",
    "mat = np.array(np.diag(range(N)))\n",
    "print(mat)"
   ]
  },
  {
   "cell_type": "markdown",
   "metadata": {},
   "source": [
    "Now again change the data type to be floats.\n",
    "\n",
    "Hint: press `shift+tab` when your cursor is within the braces of the `np.array()` function to see the help for this function.\n"
   ]
  },
  {
   "cell_type": "markdown",
   "metadata": {},
   "source": [
    "\n",
    "\n",
    "\n",
    "Now write some code to minimize a scalar function of one or more variables using the Nelder-Mead algorithm.\n",
    "\n",
    "Or maybe you have better things to do, so instead just:"
   ]
  },
  {
   "cell_type": "code",
   "execution_count": null,
   "metadata": {},
   "outputs": [],
   "source": [
    "import scipy\n",
    "import scipy.optimize\n",
    "\n",
    "# some things ..\n",
    "\n",
    "result = scipy.optimize.minimize(fun, x0, method='Nelder-Mead')\n",
    "\n",
    "# P.S this doesn't actually work because i'm too lazy to even do this much!"
   ]
  },
  {
   "cell_type": "markdown",
   "metadata": {},
   "source": [
    "# Don't `import * `\n",
    "\n",
    "It's super tempting, but just don't do it. When you do `import *` you take all the functions from the module and put them in the local namespace. This means that you don't know where the function came from...\n",
    "\n",
    "Here is an example where I did a naughty thing. The problem here is that the math module provides a `cos` and `acos` function, both of which only operate on scalars (single values), where as the `numpy` module provides a `cos` function which can operate on vectors/lists/arrays/scalars, but it *doesn't* provide the inverse function `acos`. Thus we get the following behaviour."
   ]
  },
  {
   "cell_type": "code",
   "execution_count": null,
   "metadata": {},
   "outputs": [],
   "source": [
    "from math import *\n",
    "from numpy import *\n",
    "\n",
    "print(cos([0,0.5,1])) # prints [ 1.          0.87758256  0.54030231]\n",
    "print(acos(cos([0,0.5,1]))) # Raises TypeError !?"
   ]
  },
  {
   "cell_type": "markdown",
   "metadata": {},
   "source": [
    "The following is preferable and will help you to find/avoid bugs:"
   ]
  },
  {
   "cell_type": "code",
   "execution_count": null,
   "metadata": {},
   "outputs": [],
   "source": [
    "import math\n",
    "import numpy as np # common shorthand\n",
    "\n",
    "print(np.cos([0, 0.5, 1])) #prints [ 1.          0.87758256  0.54030231]\n",
    "\n",
    "try:\n",
    "    # same error as before but now we have some hint why it occurs!\n",
    "    print(math.acos(np.cos([0, 0.5, 1])))\n",
    "except TypeError:\n",
    "    print(\"It broke, lets try using map()\")\n",
    "    print(map(math.acos, np.cos([0, 0.5, 1])))"
   ]
  },
  {
   "cell_type": "code",
   "execution_count": null,
   "metadata": {},
   "outputs": [],
   "source": []
  }
 ],
 "metadata": {
  "kernelspec": {
   "display_name": "Python 3",
   "language": "python",
   "name": "python3"
  },
  "language_info": {
   "codemirror_mode": {
    "name": "ipython",
    "version": 3
   },
   "file_extension": ".py",
   "mimetype": "text/x-python",
   "name": "python",
   "nbconvert_exporter": "python",
   "pygments_lexer": "ipython3",
   "version": "3.6.6"
  }
 },
 "nbformat": 4,
 "nbformat_minor": 2
}
