{
 "cells": [
  {
   "cell_type": "markdown",
   "metadata": {},
   "source": [
    "Documentation and comments are not the same. They have two different purposes and two different audiences.\n",
    "\n",
    "You should use both."
   ]
  },
  {
   "cell_type": "code",
   "execution_count": null,
   "metadata": {},
   "outputs": [],
   "source": [
    "def function(val):\n",
    "    \"\"\"\n",
    "    This is a doc string.\n",
    "    It describes *what* this function should do.\n",
    "    And what the inputs and out puts are.\n",
    "    \n",
    "    Parameters\n",
    "    ----------\n",
    "    val: int\n",
    "        An input value.\n",
    "    \n",
    "    Returns\n",
    "    -------\n",
    "    result: int\n",
    "       An output result.    \n",
    "    \"\"\"\n",
    "    # Comments are for developers (future you)\n",
    "    # They describe *how* the code works\n",
    "    \n",
    "    # The following approach was inspired by stackoverflow.com/some_user_post\n",
    "    result = val + 1 # Add one <- avoid stupid/obvious comments\n",
    "    \n",
    "    # Divide by three if the input is greater than 3\n",
    "    # otherwise divide by 2\n",
    "    result /= 3. if val > 3 else 2.\n",
    "    \n",
    "    # TODO: vectorise this function\n",
    "    return result"
   ]
  },
  {
   "cell_type": "markdown",
   "metadata": {},
   "source": [
    "You can read a docstring using the help() function or __doc__ variable"
   ]
  },
  {
   "cell_type": "code",
   "execution_count": null,
   "metadata": {},
   "outputs": [],
   "source": [
    "help(function)"
   ]
  },
  {
   "cell_type": "markdown",
   "metadata": {},
   "source": [
    "In Jupyter notebook, and many IDE's you can also type the function name and then press `shift+tab` to see the help.\n",
    "Press again for a more detailed veiew, and hit the arrow widget to pop it into a new frame."
   ]
  },
  {
   "cell_type": "code",
   "execution_count": null,
   "metadata": {},
   "outputs": [],
   "source": [
    "function()"
   ]
  },
  {
   "cell_type": "markdown",
   "metadata": {},
   "source": [
    "There are many different formats of docstring that you can use, including some custom thing of your own. Some commone ones are shown below.\n",
    "\n",
    "Using one of these formats increases the likelihood that your IDE will know what you are talking about!"
   ]
  },
  {
   "cell_type": "code",
   "execution_count": null,
   "metadata": {},
   "outputs": [],
   "source": [
    "def epytext_func(param1, param2):\n",
    "    \"\"\"\n",
    "    This is a epytext style.\n",
    "\n",
    "    @param param1: this is a first param\n",
    "    @param param2: this is a second param\n",
    "    @return: this is a description of what is returned\n",
    "    @raise keyError: raises an exception\n",
    "    \"\"\"\n",
    "    return\n",
    "\n",
    "def rest_func(param1, param2):\n",
    "    \"\"\"\n",
    "    This is a reST style.\n",
    "\n",
    "    :param param1: this is a first param\n",
    "    :param param2: this is a second param\n",
    "    :returns: this is a description of what is returned\n",
    "    :raises keyError: raises an exception\n",
    "    \"\"\"\n",
    "    return\n",
    "\n",
    "def google_func(param1, param2):\n",
    "    \"\"\"\n",
    "    This is an example of Google style.\n",
    "\n",
    "    Args:\n",
    "        param1: This is the first param.\n",
    "        param2: This is a second param.\n",
    "\n",
    "    Returns:\n",
    "        This is a description of what is returned.\n",
    "\n",
    "    Raises:\n",
    "        KeyError: Raises an exception.\n",
    "    \"\"\"\n",
    "    return\n",
    "\n",
    "def numpydoc_func(first, second):\n",
    "    \"\"\"\n",
    "    My numpydoc description of a kind\n",
    "    of very exhautive numpydoc format docstring.\n",
    "\n",
    "    Parameters\n",
    "    ----------\n",
    "    first : array_like\n",
    "        the 1st param name `first`\n",
    "    second :\n",
    "        the 2nd param\n",
    "    third : {'value', 'other'}, optional\n",
    "        the 3rd param, by default 'value'\n",
    "\n",
    "    Returns\n",
    "    -------\n",
    "    string\n",
    "        a value in a string\n",
    "\n",
    "    Raises\n",
    "    ------\n",
    "    KeyError\n",
    "        when a key error\n",
    "    OtherError\n",
    "        when an other error\n",
    "    \"\"\"\n",
    "    return"
   ]
  }
 ],
 "metadata": {
  "kernelspec": {
   "display_name": "Python 3",
   "language": "python",
   "name": "python3"
  },
  "language_info": {
   "codemirror_mode": {
    "name": "ipython",
    "version": 3
   },
   "file_extension": ".py",
   "mimetype": "text/x-python",
   "name": "python",
   "nbconvert_exporter": "python",
   "pygments_lexer": "ipython3",
   "version": "3.6.6"
  }
 },
 "nbformat": 4,
 "nbformat_minor": 2
}
