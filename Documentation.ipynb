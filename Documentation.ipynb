{
 "cells": [
  {
   "cell_type": "code",
   "execution_count": null,
   "metadata": {},
   "outputs": [],
   "source": [
    "def function(val):\n",
    "    \"\"\"\n",
    "    This is a doc string.\n",
    "    It describes *what* this function should do.\n",
    "    And what the inputs and out puts are.\n",
    "    \n",
    "    Parameters\n",
    "    ----------\n",
    "    val: int\n",
    "        An input value.\n",
    "    \n",
    "    Returns\n",
    "    -------\n",
    "    result: int\n",
    "       An output result.    \n",
    "    \"\"\"\n",
    "    # Comments are for developers (future you)\n",
    "    # They describe *how* the code works\n",
    "    \n",
    "    # The following approach was inspired by stackoverflow.com/some_user_post\n",
    "    result = val + 1 # Add one <- avoid stupid/obvious comments\n",
    "    \n",
    "    # Divide by three if the input is greater than 3\n",
    "    # otherwise divide by 2\n",
    "    result /= 3. if val > 3 else 2.\n",
    "    \n",
    "    # TODO: vectorise this function\n",
    "    return result"
   ]
  },
  {
   "cell_type": "markdown",
   "metadata": {},
   "source": [
    "You can read a docstring using the help() function or __doc__ variable"
   ]
  },
  {
   "cell_type": "code",
   "execution_count": null,
   "metadata": {},
   "outputs": [],
   "source": [
    "help(function)"
   ]
  },
  {
   "cell_type": "markdown",
   "metadata": {},
   "source": [
    "In Jupyter notebook, and many IDE's you can also type the function name and then press `shift+tab` to see the help.\n",
    "Press again for a more detailed veiew, and hit the arrow widget to pop it into a new frame."
   ]
  },
  {
   "cell_type": "code",
   "execution_count": null,
   "metadata": {},
   "outputs": [],
   "source": [
    "function()"
   ]
  }
 ],
 "metadata": {
  "kernelspec": {
   "display_name": "Python 3",
   "language": "python",
   "name": "python3"
  },
  "language_info": {
   "codemirror_mode": {
    "name": "ipython",
    "version": 2
   },
   "file_extension": ".py",
   "mimetype": "text/x-python",
   "name": "python",
   "nbconvert_exporter": "python",
   "pygments_lexer": "ipython2",
   "version": "2.7.14"
  }
 },
 "nbformat": 4,
 "nbformat_minor": 2
}
