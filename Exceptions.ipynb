{
 "cells": [
  {
   "cell_type": "markdown",
   "metadata": {},
   "source": [
    "Define a dictionary of key/value pairs which we will be accesing and changing."
   ]
  },
  {
   "cell_type": "code",
   "execution_count": null,
   "metadata": {},
   "outputs": [],
   "source": [
    "a={'House':False,\n",
    "   'Smashed avos': True}"
   ]
  },
  {
   "cell_type": "markdown",
   "metadata": {},
   "source": [
    "We can get the value by supplying the key:"
   ]
  },
  {
   "cell_type": "code",
   "execution_count": null,
   "metadata": {},
   "outputs": [],
   "source": [
    "a['House']"
   ]
  },
  {
   "cell_type": "markdown",
   "metadata": {},
   "source": [
    "and we can check to see if a key is in the dictionary:"
   ]
  },
  {
   "cell_type": "code",
   "execution_count": null,
   "metadata": {},
   "outputs": [],
   "source": [
    "print('House' in a)\n",
    "print('Holiday' in a)"
   ]
  },
  {
   "cell_type": "markdown",
   "metadata": {},
   "source": [
    "Assigning a value to a non-existing key is fine, it just defines the key/value pair.\n",
    "\n",
    "Assigning value is thus a 'safe' operation."
   ]
  },
  {
   "cell_type": "code",
   "execution_count": null,
   "metadata": {},
   "outputs": [],
   "source": [
    "a['Cash'] = 1e6\n",
    "a['House'] = True"
   ]
  },
  {
   "cell_type": "markdown",
   "metadata": {},
   "source": [
    "However, accessing a non-existing key results in a `KeyError`"
   ]
  },
  {
   "cell_type": "code",
   "execution_count": null,
   "metadata": {},
   "outputs": [],
   "source": [
    "a['Holiday']"
   ]
  },
  {
   "cell_type": "markdown",
   "metadata": {},
   "source": [
    "There are two ways around this:\n",
    "\n",
    "Firstly we can check before we try to do something"
   ]
  },
  {
   "cell_type": "code",
   "execution_count": null,
   "metadata": {},
   "outputs": [],
   "source": [
    "if 'Holiday' in a:\n",
    "    print(a['Holiday'])\n",
    "else:\n",
    "    print(\"No holidays!\")"
   ]
  },
  {
   "cell_type": "markdown",
   "metadata": {},
   "source": [
    "The idiomatic way is to just try do do something, and then clean up when it breaks."
   ]
  },
  {
   "cell_type": "code",
   "execution_count": null,
   "metadata": {},
   "outputs": [],
   "source": [
    "try:\n",
    "    print(a['Holiday'])\n",
    "except KeyError as e:\n",
    "    # if there was a KeyError exception thrown\n",
    "    print(\"No holidays!\")    "
   ]
  },
  {
   "cell_type": "markdown",
   "metadata": {},
   "source": [
    "Here is a more detailed version of what you can do with exceptions."
   ]
  },
  {
   "cell_type": "code",
   "execution_count": null,
   "metadata": {},
   "outputs": [],
   "source": [
    "try:\n",
    "    #do something you hope will work\n",
    "    undefined_function()\n",
    "except NameError as e:\n",
    "    # Apologize and clean up\n",
    "    print(\"Function doesn't exist?\")\n",
    "    # raise e # Uncomment this line to see how finally is useful.\n",
    "except ValueError as e:\n",
    "    print(\"Function defined but it's borked somehow.\")\n",
    "else:\n",
    "    # Run if there were no errors at all\n",
    "    print(\"That worked as planned!\")\n",
    "finally:\n",
    "    # Run reguardless of errors or not\n",
    "    print(\"We are finally done, pack it all away.\")\n",
    "print(\"Why do we need finally?\")"
   ]
  }
 ],
 "metadata": {
  "kernelspec": {
   "display_name": "Python 3",
   "language": "python",
   "name": "python3"
  },
  "language_info": {
   "codemirror_mode": {
    "name": "ipython",
    "version": 3
   },
   "file_extension": ".py",
   "mimetype": "text/x-python",
   "name": "python",
   "nbconvert_exporter": "python",
   "pygments_lexer": "ipython3",
   "version": "3.6.6"
  }
 },
 "nbformat": 4,
 "nbformat_minor": 2
}
