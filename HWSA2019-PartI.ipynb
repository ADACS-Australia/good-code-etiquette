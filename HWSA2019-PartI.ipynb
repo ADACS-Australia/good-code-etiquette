{
 "cells": [
  {
   "cell_type": "markdown",
   "metadata": {},
   "source": [
    "# Harley Wood School for Astronomy 2019 \n",
    "\n",
    "<img src=\"https://research.smp.uq.edu.au/asa2019/static/asa19/img/HWSA2019-logo.png\" width=300>\n",
    "\n",
    "## Part I - Good Code Etiquette or how to make your code more effective and efficient\n",
    "\n",
    "In this part of the workshop we will look at an example code to reproduce HR diagrams using Gaia data.\n",
    "\n",
    "<img src=\"https://www.cosmos.esa.int/documents/29201/1666086/kine_all.png/8b9de0b4-8eb1-ad73-0922-9bf323687f6e?t=1524224828914\" width=400>\n",
    "\n",
    "The above Gaia Hertzsprung-Russell diagrams, Gaia absolute magnitude versus GBP-GRP colour, are a function of the stars tangential velocity (VT), using Gaia DR2 with relative parallax uncertainty better than 10% and low extinction stars (E(B-V)<0.015), together with astrometric and photometric quality filters. The colour scale represents the square root of the density\n",
    "\n",
    "\n",
    "## Table of Contents\n",
    "\n",
    "1. [Downloading the data](#Downloading-the-data)\n",
    "2. [Cleaning the data](#Cleaning-the-data)\n",
    "3. [Plotting the HR diagram](#Plotting-the-HR-diagram)\n",
    "\n",
    "\n",
    "### Required libraries\n",
    "\n",
    "This notebook uses several Python packages that come standard with the [Anaconda Python distribution](http://continuum.io/downloads). The primary libraries that we'll be using are:\n",
    "\n",
    "* **astropy**\n",
    "* **astroquery**\n",
    "* **numpy**\n",
    "* **pandas**\n",
    "* **matplotlib**\n",
    "* **seaborn**\n",
    "\n",
    "To make sure you have all of the packages you need, install them with `conda`:\n",
    "\n",
    "    conda install [package name]\n",
    "    conda install -c astropy astroquery\n",
    "    \n",
    "`conda` may ask you to update some of the packages if you don't have the most recent version. Allow it to do so.\n",
    "\n",
    "Alternatively, if you can install the packages with [pip](https://pip.pypa.io/en/stable/installing/) (a Python package manager):\n",
    "\n",
    "    pip install [package name]\n",
    "    \n",
    "Be sure to restart your kernel if you had to install new packages."
   ]
  },
  {
   "cell_type": "markdown",
   "metadata": {},
   "source": [
    "# Downloading the data\n",
    "\n",
    "We can download data from Gaia using the astroquery library, specifically we are using the Table Access Protocol (TAP) specified by the International Virtual Observatory Alliance.\n",
    "\n",
    "[TAP astroquery docs](https://astroquery.readthedocs.io/en/latest/utils/tap.html)\n",
    "\n",
    "[Gaia Tap examples](https://gaia.aip.de/cms/documentation/tap-interface/)"
   ]
  },
  {
   "cell_type": "code",
   "execution_count": null,
   "metadata": {
    "scrolled": true
   },
   "outputs": [],
   "source": [
    "#List available tables\n",
    "from astroquery.utils.tap.core import TapPlus\n",
    "\n",
    "gaia = TapPlus(url=\"https://gaia.aip.de/tap\")\n",
    "tables = gaia.load_tables()\n",
    "for table in (tables):\n",
    "    print(table.get_qualified_name())"
   ]
  },
  {
   "cell_type": "code",
   "execution_count": null,
   "metadata": {
    "scrolled": true
   },
   "outputs": [],
   "source": [
    "# Load DR2 source table and check columns\n",
    "from astroquery.utils.tap.core import TapPlus\n",
    "\n",
    "gaia = TapPlus(url=\"http://gea.esac.esa.int/tap-server/tap\")\n",
    "table = gaia.load_table('gaiadr2.gaia_source')\n",
    "for column in (table.columns):\n",
    "    print(column.name)"
   ]
  },
  {
   "cell_type": "markdown",
   "metadata": {},
   "source": [
    "**WARNING** This query takes a long time. Please load the data from the file given to you by the instructors"
   ]
  },
  {
   "cell_type": "code",
   "execution_count": null,
   "metadata": {},
   "outputs": [],
   "source": [
    "# # Download gaia dr 2 source table, save to disk\n",
    "# gaia = TapPlus(url=\"http://gea.esac.esa.int/tap-server/tap\")\n",
    "# job = gaia.launch_job_async(\"select * from gaiadr2.gaia_source order by source_id\", dump_to_file=True)\n",
    "# print(job)"
   ]
  },
  {
   "cell_type": "code",
   "execution_count": null,
   "metadata": {
    "scrolled": true
   },
   "outputs": [],
   "source": [
    "# # return result of query \n",
    "# r = job.get_results()"
   ]
  },
  {
   "cell_type": "code",
   "execution_count": null,
   "metadata": {},
   "outputs": [],
   "source": [
    "# #save the data\n",
    "# from astropy.io import ascii\n",
    "\n",
    "# ascii.write(r, 'gaiadr2query.dat')\n"
   ]
  },
  {
   "cell_type": "markdown",
   "metadata": {},
   "source": [
    "# Cleaning the data\n",
    "\n",
    "The aim of this section is to make sure we have useful data, ie:\n",
    "- remove NaN\n",
    "- calculate the absolute magnitude\n",
    "- subset into different location or velocity bins, we are interestedn in:\n",
    "\n",
    "|Name        |Type        |UCD         |Unit        |Description |\n",
    "|------------|------------|------------|------------|------------|\n",
    "|bp_rp \t|float \t|phot.color \t|Magnitude[mag] \t|BP - RP colour|\n",
    "|bp_g \t|float \t|phot.color \t|Magnitude[mag] \t|BP - G colour|\n",
    "|g_rp \t|float \t|phot.color \t|Magnitude[mag] \t|G - RP colour|\n",
    "|radial_velocity \t|double \t|spect.dopplerVeloc.opt \t|Velocity[km/s] \t|Radial velocity |"
   ]
  },
  {
   "cell_type": "code",
   "execution_count": null,
   "metadata": {},
   "outputs": [],
   "source": [
    "from astropy.io import ascii\n",
    "\n",
    "r = ascii.read('gaiadr2query.dat', format='daophot')"
   ]
  },
  {
   "cell_type": "code",
   "execution_count": null,
   "metadata": {},
   "outputs": [
    {
     "name": "stderr",
     "output_type": "stream",
     "text": [
      "WARNING: W35: async_20190630210155.vot:5:0: W35: 'value' attribute required for INFO elements [astropy.io.votable.tree]\n",
      "WARNING: W35: async_20190630210155.vot:6:0: W35: 'value' attribute required for INFO elements [astropy.io.votable.tree]\n",
      "WARNING: W35: async_20190630210155.vot:7:0: W35: 'value' attribute required for INFO elements [astropy.io.votable.tree]\n",
      "WARNING: W35: async_20190630210155.vot:8:0: W35: 'value' attribute required for INFO elements [astropy.io.votable.tree]\n",
      "WARNING: W35: async_20190630210155.vot:10:0: W35: 'value' attribute required for INFO elements [astropy.io.votable.tree]\n",
      "WARNING: W27: async_20190630210155.vot:11:0: W27: COOSYS deprecated in VOTable 1.2 [astropy.io.votable.tree]\n",
      "WARNING: W06: async_20190630210155.vot:47:0: W06: Invalid UCD 'arith.ratio': Secondary word 'arith.ratio' is not valid as a primary word [astropy.io.votable.tree]\n",
      "WARNING: W50: async_20190630210155.vot:50:0: W50: Invalid unit string 'mas.yr**-1' [astropy.io.votable.tree]\n",
      "WARNING: W50: async_20190630210155.vot:53:0: W50: Invalid unit string 'mas.yr**-1' [astropy.io.votable.tree]\n",
      "WARNING: W50: async_20190630210155.vot:56:0: W50: Invalid unit string 'mas.yr**-1' [astropy.io.votable.tree]\n",
      "WARNING: W50: async_20190630210155.vot:59:0: W50: Invalid unit string 'mas.yr**-1' [astropy.io.votable.tree]\n",
      "WARNING: W50: async_20190630210155.vot:122:0: W50: Invalid unit string 'mas**-2' [astropy.io.votable.tree]\n",
      "WARNING: W50: async_20190630210155.vot:125:0: W50: Invalid unit string 'um**-1' [astropy.io.votable.tree]\n",
      "WARNING: W06: async_20190630210155.vot:128:0: W06: Invalid UCD 'em.wavenumber;stat.error': Primary word 'stat.error' is not valid as a secondary word [astropy.io.votable.tree]\n",
      "WARNING: W50: async_20190630210155.vot:128:0: W50: Invalid unit string 'um**-1' [astropy.io.votable.tree]\n",
      "WARNING: W06: async_20190630210155.vot:140:0: W06: Invalid UCD 'pos.errorEllipse;stat.max': Secondary word 'pos.errorEllipse' is not valid as a primary word [astropy.io.votable.tree]\n",
      "WARNING: W50: async_20190630210155.vot:155:0: W50: Invalid unit string ''electron'.s**-1' [astropy.io.votable.tree]\n",
      "WARNING: W50: async_20190630210155.vot:158:0: W50: Invalid unit string ''electron'.s**-1' [astropy.io.votable.tree]\n",
      "WARNING: W06: async_20190630210155.vot:161:0: W06: Invalid UCD 'arith.ratio': Secondary word 'arith.ratio' is not valid as a primary word [astropy.io.votable.tree]\n",
      "WARNING: W50: async_20190630210155.vot:170:0: W50: Invalid unit string ''electron'.s**-1' (suppressing further warnings of this type...) [astropy.io.votable.tree]\n",
      "WARNING: W06: async_20190630210155.vot:176:0: W06: Invalid UCD 'arith.ratio': Secondary word 'arith.ratio' is not valid as a primary word [astropy.io.votable.tree]\n",
      "WARNING: W06: async_20190630210155.vot:191:0: W06: Invalid UCD 'arith.ratio': Secondary word 'arith.ratio' is not valid as a primary word [astropy.io.votable.tree]\n",
      "WARNING: W06: async_20190630210155.vot:203:0: W06: Invalid UCD 'phot.color': Unknown word 'phot.color' [astropy.io.votable.tree]\n",
      "WARNING: W06: async_20190630210155.vot:206:0: W06: Invalid UCD 'phot.color': Unknown word 'phot.color' [astropy.io.votable.tree]\n",
      "WARNING: W06: async_20190630210155.vot:209:0: W06: Invalid UCD 'phot.color': Unknown word 'phot.color' [astropy.io.votable.tree]\n",
      "WARNING: W06: async_20190630210155.vot:281:0: W06: Invalid UCD 'phys.size.radius;stat.error': Primary word 'stat.error' is not valid as a secondary word (suppressing further warnings of this type...) [astropy.io.votable.tree]\n"
     ]
    }
   ],
   "source": [
    "from astropy.io.votable import parse_single_table\n",
    "table = parse_single_table(\"async_20190630210155.vot\")\n"
   ]
  },
  {
   "cell_type": "code",
   "execution_count": null,
   "metadata": {},
   "outputs": [],
   "source": [
    "#convert to pandas df and calculate absolute mag\n",
    "import pandas as pd\n",
    "import numpy as np\n",
    "from math import *\n",
    "\n",
    "df = r.to_pandas()\n",
    "df['mg'] = 0\n",
    "df['dist'] = 0\n",
    "\n",
    "for c, v in enumerate(df['phot_g_mean_mag']):\n",
    "    \n",
    "    p =df.loc[c,'parallax']\n",
    "    if p>0:\n",
    "        df.loc[c,'mg'] = v + 5 * log10(p) - 10\n",
    "        df.loc[c,'dist'] = 1000/p\n",
    "    else:\n",
    "        df.loc[c,'mg'] = np.nan\n",
    "        df.loc[c,'dist'] = np.nan\n",
    "\n",
    "df.head()"
   ]
  },
  {
   "cell_type": "code",
   "execution_count": null,
   "metadata": {},
   "outputs": [],
   "source": [
    "df_clean = df[(df.parallax_over_error > 10) & (df.visibility_periods_used > 8) & (df.phot_g_mean_flux_over_error > 50)\n",
    "             & (df.phot_bp_mean_flux_over_error > 20) & (df.phot_rp_mean_flux_over_error > 20)]"
   ]
  },
  {
   "cell_type": "code",
   "execution_count": null,
   "metadata": {},
   "outputs": [],
   "source": [
    "#remove nan\n",
    "df_clean.dropna(subset=['bp_rp','bp_g','g_rp','mg','dist','radial_velocity'], inplace=True)\n",
    "dfsub = df_clean.loc[['bp_rp','bp_g','g_rp','mg','dist','radial_velocity']]\n",
    "dfsub.describe()"
   ]
  },
  {
   "cell_type": "code",
   "execution_count": null,
   "metadata": {},
   "outputs": [],
   "source": []
  },
  {
   "cell_type": "markdown",
   "metadata": {},
   "source": [
    "# Plotting the HR diagram\n",
    "\n",
    "In this final section we will plot the HR diagram. \n",
    "For this we are creating a 2d histogram showing the number density, to be plotted on top of the scatterplot os the actual data.\n",
    "\n",
    "|Name        |Type        |UCD         |Unit        |Description |\n",
    "|------------|------------|------------|------------|------------|\n",
    "|bp_rp \t|float \t|phot.color \t|Magnitude[mag] \t|BP - RP colour|\n",
    "|bp_g \t|float \t|phot.color \t|Magnitude[mag] \t|BP - G colour|\n",
    "|g_rp \t|float \t|phot.color \t|Magnitude[mag] \t|G - RP colour|\n",
    "|radial_velocity \t|double \t|spect.dopplerVeloc.opt \t|Velocity[km/s] \t|Radial velocity |"
   ]
  },
  {
   "cell_type": "code",
   "execution_count": null,
   "metadata": {},
   "outputs": [],
   "source": [
    "# plot the H-R diagram for BP - RP colour\n",
    "%matplotlib inline\n",
    "import matplotlib.pyplot as plt\n",
    "from matplotlib import colors\n",
    "plt.rc('text', usetex=True)\n",
    "\n",
    "\n",
    "\n",
    "#select data for plotting\n",
    "cstar = df['bp_rp']\n",
    "mg = df['mg']\n",
    "\n",
    "fig, ax = plt.subplots(figsize=(6, 6))\n",
    "# only show 2D-histogram for bins with more than 5 stars in them\n",
    "h = ax.hist2d(cstar, mg, bins=70, norm=colors.PowerNorm(0.5),cmin=5, zorder=0.5)\n",
    "# fill the rest with scatter (set rasterized=True if saving as vector graphics)\n",
    "ax.scatter(cstar, mg, alpha=0.05, s=5, color='k', zorder=0)\n",
    "ax.invert_yaxis()\n",
    "cb = fig.colorbar(h[3], ax=ax, pad=0.02)\n",
    "ax.set_xlabel(r'$G_{BP} - G_{RP}$')\n",
    "ax.set_ylabel(r'$M_G$')\n",
    "cb.set_label(r\"$\\mathrm{Stellar~density}$\")\n",
    "plt.show()\n",
    "# , norm=colors.PowerNorm(0.5), zorder=0.5"
   ]
  },
  {
   "cell_type": "code",
   "execution_count": null,
   "metadata": {},
   "outputs": [],
   "source": [
    "# plot the H-R diagram for BP - G colour\n",
    "%matplotlib inline\n",
    "import matplotlib.pyplot as plt\n",
    "from matplotlib import colors\n",
    "plt.rc('text', usetex=True)\n",
    "\n",
    "#select data for plotting\n",
    "cstar = df['bp_g']\n",
    "mg = df['mg']\n",
    "\n",
    "fig, ax = plt.subplots(figsize=(6, 6))\n",
    "# only show 2D-histogram for bins with more than 5 stars in them\n",
    "h = ax.hist2d(cstar, mg, bins=70, norm=colors.PowerNorm(0.5),cmin=5, zorder=0.5)\n",
    "# fill the rest with scatter (set rasterized=True if saving as vector graphics)\n",
    "ax.scatter(cstar, mg, alpha=0.05, s=5, color='k', zorder=0)\n",
    "ax.invert_yaxis()\n",
    "cb = fig.colorbar(h[3], ax=ax, pad=0.02)\n",
    "ax.set_xlabel(r'$G_{BP} - G_{G}$')\n",
    "ax.set_ylabel(r'$M_G$')\n",
    "cb.set_label(r\"$\\mathrm{Stellar~density}$\")\n",
    "plt.show()\n",
    "# , norm=colors.PowerNorm(0.5), zorder=0.5"
   ]
  },
  {
   "cell_type": "code",
   "execution_count": null,
   "metadata": {},
   "outputs": [],
   "source": [
    "# plot the H-R diagram for BP - RP colour\n",
    "%matplotlib inline\n",
    "import matplotlib.pyplot as plt\n",
    "from matplotlib import colors\n",
    "plt.rc('text', usetex=True)\n",
    "\n",
    "#select data for plotting\n",
    "cstar = df['bp_rp']\n",
    "mg = df['mg']\n",
    "\n",
    "fig, ax = plt.subplots(figsize=(6, 6))\n",
    "# only show 2D-histogram for bins with more than 5 stars in them\n",
    "h = ax.hist2d(cstar, mg, bins=70, norm=colors.PowerNorm(0.5),cmin=5, zorder=0.5)\n",
    "# fill the rest with scatter (set rasterized=True if saving as vector graphics)\n",
    "ax.scatter(cstar, mg, alpha=0.05, s=5, color='k', zorder=0)\n",
    "ax.invert_yaxis()\n",
    "cb = fig.colorbar(h[3], ax=ax, pad=0.02)\n",
    "ax.set_xlabel(r'$G_{BP} - G_{RP}$')\n",
    "ax.set_ylabel(r'$M_G$')\n",
    "cb.set_label(r\"$\\mathrm{Stellar~density}$\")\n",
    "plt.show()\n",
    "# , norm=colors.PowerNorm(0.5), zorder=0.5"
   ]
  },
  {
   "cell_type": "markdown",
   "metadata": {},
   "source": [
    "Within your groups work through the notebook and figure out what is being done, discuss how you would improve the code presented here.\n",
    "Then work through and implement as many of the changes you thought of.\n",
    "Some of the things to look out for:\n",
    "- implicit vs explicit, how easy is it to follow what has been done? Are there enough comments? What about variable names, do they make sense?\n",
    "- is the notebook logicaly structured?\n",
    "- how much code is repeated?\n",
    "- loops\n",
    "- check out the information on how to query the gaia database\n",
    "\n",
    "The catalogue we queried is here: https://gaia.aip.de/metadata/gdr2/gaia_source/\n",
    "Tap examples: https://astroquery.readthedocs.io/en/latest/utils/tap.html"
   ]
  },
  {
   "cell_type": "code",
   "execution_count": null,
   "metadata": {},
   "outputs": [],
   "source": []
  }
 ],
 "metadata": {
  "kernelspec": {
   "display_name": "Python 3",
   "language": "python",
   "name": "python3"
  },
  "language_info": {
   "codemirror_mode": {
    "name": "ipython",
    "version": 3
   },
   "file_extension": ".py",
   "mimetype": "text/x-python",
   "name": "python",
   "nbconvert_exporter": "python",
   "pygments_lexer": "ipython3",
   "version": "3.6.5"
  }
 },
 "nbformat": 4,
 "nbformat_minor": 2
}
