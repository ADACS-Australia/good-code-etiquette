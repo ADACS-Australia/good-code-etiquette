{
 "cells": [
  {
   "cell_type": "markdown",
   "metadata": {},
   "source": [
    "# Harley Wood School for Astronomy 2019 \n",
    "\n",
    "<img src=\"https://research.smp.uq.edu.au/asa2019/static/asa19/img/HWSA2019-logo.png\" width=300>\n",
    "\n",
    "## Part I - Good Code Etiquette or how to make your code more effective and efficient\n",
    "\n",
    "<img src=\"https://www.cosmos.esa.int/documents/29201/1666086/kine_all.png/8b9de0b4-8eb1-ad73-0922-9bf323687f6e?t=1524224828914\" width=400>\n",
    "\n",
    "The above Gaia Hertzsprung-Russell diagrams, Gaia absolute magnitude versus GBP-GRP colour, are a function of the stars tangential velocity (VT), using Gaia DR2 with relative parallax uncertainty better than 10% and low extinction stars (E(B-V)<0.015), together with astrometric and photometric quality filters. The colour scale represents the square root of the density.\n",
    "\n",
    "In this part of the workshop we will look at example code to reproduce HR diagrams using Gaia data. The code explores the HR diagram for different colours, if we have the time try implementing the plots for different velocity ranges.\n",
    "\n",
    "## Table of Contents\n",
    "\n",
    "1. [Downloading the data](#Downloading-the-data)\n",
    "2. [Cleaning the data](#Cleaning-the-data)\n",
    "3. [Plotting the HR diagram](#Plotting-the-HR-diagram)\n",
    "\n",
    "\n",
    "### Required libraries\n",
    "\n",
    "This notebook uses several Python packages that come standard with the [Anaconda Python distribution](http://continuum.io/downloads). The primary libraries that we'll be using are:\n",
    "\n",
    "* **astropy**\n",
    "* **astroquery**\n",
    "* **numpy**\n",
    "* **pandas**\n",
    "* **matplotlib**\n",
    "\n",
    "To make sure you have all of the packages you need, install them with `conda`:\n",
    "\n",
    "    conda install [package name]\n",
    "    conda install -c astropy astroquery\n",
    "    \n",
    "`conda` may ask you to update some of the packages if you don't have the most recent version. Allow it to do so.\n",
    "\n",
    "Alternatively, if you can install the packages with [pip](https://pip.pypa.io/en/stable/installing/) (a Python package manager):\n",
    "\n",
    "    pip install [package name]\n",
    "    \n",
    "Be sure to restart your kernel if you had to install new packages."
   ]
  },
  {
   "cell_type": "markdown",
   "metadata": {},
   "source": [
    "# What to do next\n",
    "\n",
    "Within your groups work through the notebook and figure out what is being done, discuss how you would improve the code presented here.\n",
    "Then work through and implement as many of the changes you thought of.\n",
    "Some of the things to look out for:\n",
    "- implicit vs explicit, how easy is it to follow what has been done? Are there enough comments? What about variable names, do they make sense?\n",
    "- is the notebook logicaly structured?\n",
    "- how much code is repeated?\n",
    "- loops\n",
    "- check out the information on how to query the gaia database\n"
   ]
  },
  {
   "cell_type": "markdown",
   "metadata": {},
   "source": [
    "## Proposed improvements:\n",
    "\n",
    "- include an author statement\n",
    "- have the import statements at the beginning\n",
    "- create functions for often repeated code\n",
    "- replace the for loop with an np.where mask\n",
    "- replace the log10 function with np.log\n",
    "- vectorise!!!!!!\n",
    "- change variable names to be more transparent\n",
    "- plotted the uncleaned data set -> updated to cleaned data set\n",
    "- make lines shorter by inlcuding line breaks\n",
    "- try expect statement to get around problems with latex rendering in the plotting\n",
    "- the order of code should be cleaned up - clean data before calculating new values to decrease amount of compute\n",
    "- 0th order improvement: as we are reading from a database let the database do a lot of the heavy lifting for you! Within the DB you can select to return only the columns required for plotting. The DB can also do a lot of the data cleaning for you, i.e. remove data out of bounds and even calculate the new variable of absolute magnitude for you.\n",
    "- putting things into functions and returning only the required output will help with clenaing up memory and less likely to introduce bugs due to using same variable names"
   ]
  },
  {
   "cell_type": "markdown",
   "metadata": {},
   "source": [
    "# Downloading the data\n",
    "\n",
    "We can download data from Gaia using the astroquery library, specifically we are using the Table Access Protocol (TAP) specified by the International Virtual Observatory Alliance.\n",
    "\n",
    "The catalogue we queried is here: https://gaia.aip.de/metadata/gdr2/gaia_source/\n",
    "\n",
    "Tap examples: \n",
    "[TAP astroquery docs](https://astroquery.readthedocs.io/en/latest/utils/tap.html), \n",
    "[Gaia Tap examples](https://gaia.aip.de/cms/documentation/tap-interface/)"
   ]
  },
  {
   "cell_type": "code",
   "execution_count": null,
   "metadata": {
    "scrolled": true
   },
   "outputs": [],
   "source": [
    "#List available tables\n",
    "from astroquery.utils.tap.core import TapPlus\n",
    "\n",
    "gaia = TapPlus(url=\"https://gaia.aip.de/tap\")\n",
    "tables = gaia.load_tables()\n",
    "for table in (tables):\n",
    "    print(table.get_qualified_name())"
   ]
  },
  {
   "cell_type": "code",
   "execution_count": null,
   "metadata": {
    "scrolled": true
   },
   "outputs": [],
   "source": [
    "# Load DR2 source table and check columns\n",
    "from astroquery.utils.tap.core import TapPlus\n",
    "\n",
    "gaia = TapPlus(url=\"http://gea.esac.esa.int/tap-server/tap\")\n",
    "table = gaia.load_table('gaiadr2.gaia_source')\n",
    "for column in (table.columns):\n",
    "    print(column.name)"
   ]
  },
  {
   "cell_type": "markdown",
   "metadata": {},
   "source": [
    "**WARNING** This query takes a long time. Please load the data from the file given to you by the instructors"
   ]
  },
  {
   "cell_type": "code",
   "execution_count": null,
   "metadata": {},
   "outputs": [],
   "source": [
    "# # Download gaia dr 2 source table, save to disk\n",
    "# gaia = TapPlus(url=\"http://gea.esac.esa.int/tap-server/tap\")\n",
    "# job = gaia.launch_job_async(\"select * from gaiadr2.gaia_source order by source_id\", dump_to_file=True)\n",
    "# print(job)"
   ]
  },
  {
   "cell_type": "code",
   "execution_count": null,
   "metadata": {
    "scrolled": true
   },
   "outputs": [],
   "source": [
    "# # return result of query \n",
    "# t = job.get_results()"
   ]
  },
  {
   "cell_type": "markdown",
   "metadata": {},
   "source": [
    "# Cleaning the data\n",
    "\n",
    "The aim of this section is to make sure we have useful data, ie:\n",
    "- remove NaN\n",
    "- calculate the absolute magnitude\n",
    "- subset into different location or velocity bins, we are interestedn in:\n",
    "\n",
    "|Name        |Type        |UCD         |Unit        |Description |\n",
    "|------------|------------|------------|------------|------------|\n",
    "|bp_rp \t|float \t|phot.color \t|Magnitude[mag] \t|BP - RP colour|\n",
    "|bp_g \t|float \t|phot.color \t|Magnitude[mag] \t|BP - G colour|\n",
    "|g_rp \t|float \t|phot.color \t|Magnitude[mag] \t|G - RP colour|\n",
    "|radial_velocity \t|double \t|spect.dopplerVeloc.opt \t|Velocity[km/s] \t|Radial velocity |"
   ]
  },
  {
   "cell_type": "code",
   "execution_count": null,
   "metadata": {},
   "outputs": [],
   "source": [
    "#read data \n",
    "import pandas as pd\n",
    "from astropy.io.votable import parse_single_table\n",
    "\n",
    "# read in a subset of the first 10000 rows\n",
    "table = parse_single_table(\"async_subset.vot\")\n",
    "\n",
    "t =table.to_table(use_names_over_ids=True)\n"
   ]
  },
  {
   "cell_type": "code",
   "execution_count": null,
   "metadata": {},
   "outputs": [],
   "source": [
    "#convert to pandas DF\n",
    "import pandas as pd\n",
    "\n",
    "df = t.to_pandas()\n",
    "\n",
    "#check the data frame\n",
    "df.head()"
   ]
  },
  {
   "cell_type": "code",
   "execution_count": null,
   "metadata": {},
   "outputs": [],
   "source": [
    "#calculate absolute mag\n",
    "import pandas as pd\n",
    "import numpy as np\n",
    "from math import * # <- this is bad!\n",
    "\n",
    "df['mg'] = 0\n",
    "df['dist'] = 0\n",
    "\n",
    "for c, v in enumerate(df['phot_g_mean_mag']):\n",
    "    \n",
    "    p =df.loc[c,'parallax']\n",
    "    if p>0:\n",
    "        df.loc[c,'mg'] = v + 5 * log10(p) - 10\n",
    "        df.loc[c,'dist'] = 1000/p\n",
    "    else:\n",
    "        df.loc[c,'mg'] = np.nan\n",
    "        df.loc[c,'dist'] = np.nan\n",
    "\n",
    "df.head()"
   ]
  },
  {
   "cell_type": "code",
   "execution_count": null,
   "metadata": {},
   "outputs": [],
   "source": [
    "df.describe()[['bp_rp','bp_g','g_rp','mg','dist','radial_velocity']]"
   ]
  },
  {
   "cell_type": "code",
   "execution_count": null,
   "metadata": {},
   "outputs": [],
   "source": [
    "# remove bad quality data - these thresholds are used by the Gaia team (they clean the data even more though)\n",
    "df_clean = df[(df.parallax_over_error > 10) & \n",
    "              (df.visibility_periods_used > 8) & \n",
    "              (df.phot_g_mean_flux_over_error > 50) & \n",
    "              (df.phot_bp_mean_flux_over_error > 20) & \n",
    "              (df.phot_rp_mean_flux_over_error > 20)]"
   ]
  },
  {
   "cell_type": "code",
   "execution_count": null,
   "metadata": {},
   "outputs": [],
   "source": [
    "df_clean.describe()[['bp_rp','bp_g','g_rp','mg','dist','radial_velocity']]"
   ]
  },
  {
   "cell_type": "code",
   "execution_count": null,
   "metadata": {},
   "outputs": [],
   "source": [
    "#remove nan\n",
    "df_clean.dropna(subset=['bp_rp','bp_g','g_rp','mg','dist'], inplace=True)\n",
    "\n",
    "dfsub = df_clean.loc[:,['bp_rp','bp_g','g_rp','mg','dist']]\n",
    "dfsub.describe()\n",
    "\n",
    "#remove nan for radial velocity as well\n",
    "# df_clean.dropna(subset=['bp_rp','bp_g','g_rp','mg','dist','radial_velocity'], inplace=True)\n",
    "\n",
    "# dfsub = df_clean.loc[:,['bp_rp','bp_g','g_rp','mg','dist','radial_velocity']]\n",
    "# dfsub.describe()"
   ]
  },
  {
   "cell_type": "markdown",
   "metadata": {},
   "source": [
    "# Plotting the HR diagram\n",
    "\n",
    "In this final section we will plot the HR diagram. \n",
    "For this we are creating a 2d histogram showing the number density, to be plotted on top of the scatterplot os the actual data.\n",
    "\n",
    "|Name        |Type        |UCD         |Unit        |Description |\n",
    "|------------|------------|------------|------------|------------|\n",
    "|bp_rp \t|float \t|phot.color \t|Magnitude[mag] \t|BP - RP colour|\n",
    "|bp_g \t|float \t|phot.color \t|Magnitude[mag] \t|BP - G colour|\n",
    "|g_rp \t|float \t|phot.color \t|Magnitude[mag] \t|G - RP colour|\n",
    "|radial_velocity \t|double \t|spect.dopplerVeloc.opt \t|Velocity[km/s] \t|Radial velocity |"
   ]
  },
  {
   "cell_type": "markdown",
   "metadata": {},
   "source": [
    "**Create a well documented function to plot as only the input changes**"
   ]
  },
  {
   "cell_type": "code",
   "execution_count": null,
   "metadata": {},
   "outputs": [],
   "source": [
    "# plot the H-R diagram for BP - RP colour\n",
    "%matplotlib inline\n",
    "import matplotlib.pyplot as plt\n",
    "from matplotlib import colors\n",
    "plt.rc('text', usetex=True)\n",
    "\n",
    "\n",
    "\n",
    "#select data for plotting\n",
    "cstar = dfsub['bp_rp']\n",
    "mg = dfsub['mg']\n",
    "\n",
    "fig, ax = plt.subplots(figsize=(6, 6))\n",
    "# only show 2D-histogram for bins with more than 5 stars in them\n",
    "h = ax.hist2d(cstar, mg, bins=70, norm=colors.PowerNorm(0.5),cmin=5, zorder=0.5)\n",
    "# fill the rest with scatter (set rasterized=True if saving as vector graphics)\n",
    "ax.scatter(cstar, mg, alpha=0.1, s=5, color='k', zorder=0)\n",
    "ax.invert_yaxis()\n",
    "cb = fig.colorbar(h[3], ax=ax, pad=0.02)\n",
    "ax.set_xlabel(r'$G_{BP} - G_{RP}$')\n",
    "ax.set_ylabel(r'$M_G$')\n",
    "cb.set_label(r\"$\\mathrm{Stellar~density}$\")\n",
    "plt.show()"
   ]
  },
  {
   "cell_type": "code",
   "execution_count": null,
   "metadata": {},
   "outputs": [],
   "source": [
    "# plot the H-R diagram for BP - G colour\n",
    "%matplotlib inline\n",
    "import matplotlib.pyplot as plt\n",
    "from matplotlib import colors\n",
    "plt.rc('text', usetex=True)\n",
    "\n",
    "#select data for plotting\n",
    "cstar = dfsub['bp_g']\n",
    "mg = dfsub['mg']\n",
    "\n",
    "fig, ax = plt.subplots(figsize=(6, 6))\n",
    "# only show 2D-histogram for bins with more than 5 stars in them\n",
    "h = ax.hist2d(cstar, mg, bins=70, norm=colors.PowerNorm(0.5),cmin=5, zorder=0.5)\n",
    "# fill the rest with scatter (set rasterized=True if saving as vector graphics)\n",
    "ax.scatter(cstar, mg, alpha=0.05, s=5, color='k', zorder=0)\n",
    "ax.invert_yaxis()\n",
    "cb = fig.colorbar(h[3], ax=ax, pad=0.02)\n",
    "ax.set_xlabel(r'$G_{BP} - G_{G}$')\n",
    "ax.set_ylabel(r'$M_G$')\n",
    "cb.set_label(r\"$\\mathrm{Stellar~density}$\")\n",
    "plt.show()"
   ]
  },
  {
   "cell_type": "code",
   "execution_count": null,
   "metadata": {},
   "outputs": [],
   "source": [
    "# plot the H-R diagram for BP - RP colour\n",
    "%matplotlib inline\n",
    "import matplotlib.pyplot as plt\n",
    "from matplotlib import colors\n",
    "plt.rc('text', usetex=True)\n",
    "\n",
    "#select data for plotting\n",
    "cstar = dfsub['bp_rp']\n",
    "mg = dfsub['mg']\n",
    "\n",
    "fig, ax = plt.subplots(figsize=(6, 6))\n",
    "# only show 2D-histogram for bins with more than 5 stars in them\n",
    "h = ax.hist2d(cstar, mg, bins=70, norm=colors.PowerNorm(0.5),cmin=5, zorder=0.5)\n",
    "# fill the rest with scatter (set rasterized=True if saving as vector graphics)\n",
    "ax.scatter(cstar, mg, alpha=0.05, s=5, color='k', zorder=0)\n",
    "ax.invert_yaxis()\n",
    "cb = fig.colorbar(h[3], ax=ax, pad=0.02)\n",
    "ax.set_xlabel(r'$G_{BP} - G_{RP}$')\n",
    "ax.set_ylabel(r'$M_G$')\n",
    "cb.set_label(r\"$\\mathrm{Stellar~density}$\")\n",
    "plt.show()"
   ]
  },
  {
   "cell_type": "code",
   "execution_count": null,
   "metadata": {},
   "outputs": [],
   "source": []
  }
 ],
 "metadata": {
  "kernelspec": {
   "display_name": "Python 3",
   "language": "python",
   "name": "python3"
  },
  "language_info": {
   "codemirror_mode": {
    "name": "ipython",
    "version": 3
   },
   "file_extension": ".py",
   "mimetype": "text/x-python",
   "name": "python",
   "nbconvert_exporter": "python",
   "pygments_lexer": "ipython3",
   "version": "3.6.5"
  }
 },
 "nbformat": 4,
 "nbformat_minor": 2
}
