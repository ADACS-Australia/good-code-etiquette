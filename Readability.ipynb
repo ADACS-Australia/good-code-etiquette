{
 "cells": [
  {
   "cell_type": "markdown",
   "metadata": {},
   "source": [
    "What does the code below do?\n",
    "\n",
    "What do num_lines and nwords represent?"
   ]
  },
  {
   "cell_type": "code",
   "execution_count": null,
   "metadata": {},
   "outputs": [],
   "source": [
    "a=\"\"\"Beautiful is better than ugly.\n",
    "Explicit is better than implicit.\n",
    "Simple is better than complex.\n",
    "Complex is better than complicated.\n",
    "Flat is better than nested.\n",
    "Sparse is better than dense.\n",
    "Readability counts.\n",
    "\"\"\"\n",
    "\n",
    "lines = a.split('\\n') # \\n is the newline character\n",
    "num_lines = len(lines)\n",
    "\n",
    "nwords = 0\n",
    "for line in lines:\n",
    "    words = line.split()\n",
    "    nwords += len(words)\n"
   ]
  },
  {
   "cell_type": "markdown",
   "metadata": {},
   "source": [
    "How about this?"
   ]
  },
  {
   "cell_type": "code",
   "execution_count": null,
   "metadata": {},
   "outputs": [],
   "source": [
    "num_lines = len(a.split('\\n'))\n",
    "nwords = len(a.split())\n"
   ]
  },
  {
   "cell_type": "markdown",
   "metadata": {},
   "source": [
    "What does this do?"
   ]
  },
  {
   "cell_type": "code",
   "execution_count": null,
   "metadata": {},
   "outputs": [],
   "source": [
    "print(len(list(i for i in a if i=='e')))"
   ]
  },
  {
   "cell_type": "markdown",
   "metadata": {},
   "source": [
    "We can increase the readbility of code by using indentation, especially when we are creating collections such as dictionaries, or lists."
   ]
  },
  {
   "cell_type": "code",
   "execution_count": null,
   "metadata": {},
   "outputs": [],
   "source": [
    "fmts = {\n",
    "        \"ann\": \"Kvis annotation\",\n",
    "        \"reg\": \"DS9 regions file\",\n",
    "        \"fits\": \"FITS Binary Table\",\n",
    "        \"csv\": \"Comma separated values\",\n",
    "        \"tab\": \"tabe separated values\",\n",
    "        \"tex\": \"LaTeX table format\",\n",
    "        \"html\": \"HTML table\",\n",
    "        \"vot\": \"VO-Table\",\n",
    "        \"xml\": \"VO-Table\",\n",
    "        \"db\": \"Sqlite3 database\",\n",
    "        \"sqlite\": \"Sqlite3 database\"}"
   ]
  },
  {
   "cell_type": "markdown",
   "metadata": {},
   "source": [
    "I find it super useful to set out my 'matricies' in the following way"
   ]
  },
  {
   "cell_type": "code",
   "execution_count": null,
   "metadata": {},
   "outputs": [],
   "source": [
    "my_matrix = [[1, 0, 1],\n",
    "             [0, 1, 0],\n",
    "             [1, 0, 0]]"
   ]
  },
  {
   "cell_type": "markdown",
   "metadata": {},
   "source": [
    "We can also usin inline comments with the multi-line collections, and use comments to exclude items without having to delete them"
   ]
  },
  {
   "cell_type": "code",
   "execution_count": null,
   "metadata": {},
   "outputs": [],
   "source": [
    "books = ['Advanced Engineering Maths, Kreyszig', # Standard textbook\n",
    "         # 'Flowers for Algernon, Keyes', # Great read\n",
    "         'Rendezvous with Rama, Clarke', # Classic Sci-fi \n",
    "        ]"
   ]
  },
  {
   "cell_type": "markdown",
   "metadata": {},
   "source": [
    "Using multiple lines for defining or calling a function with a lot of options/parameters can also be helpful."
   ]
  },
  {
   "cell_type": "code",
   "execution_count": null,
   "metadata": {},
   "outputs": [],
   "source": [
    "def do_lots_of_things(option1, # required\n",
    "                      option2=0, # not required, has default value\n",
    "                      option3=1,\n",
    "                      labels=(),\n",
    "                      sqlconnecion=None,\n",
    "                      retries=3,\n",
    "                      verbose=False,\n",
    "                      do_print=True):\n",
    "    pass"
   ]
  },
  {
   "cell_type": "markdown",
   "metadata": {},
   "source": [
    "You can mix it up. Having related things on the same line can be a nice way to group things together. As in the following where the `verbose` and `do_print` options seem to be related."
   ]
  },
  {
   "cell_type": "code",
   "execution_count": null,
   "metadata": {},
   "outputs": [],
   "source": [
    "do_lots_of_things('all the things',\n",
    "                  labels=('one','two','three'),\n",
    "                  verbose=True, do_print=False)\n",
    "                  "
   ]
  },
  {
   "cell_type": "markdown",
   "metadata": {},
   "source": [
    "What does this code do?\n",
    "\n",
    "Hint: look at the output and guess\n",
    "\n",
    "How does this work?\n",
    "\n",
    "Hint: It's magic"
   ]
  },
  {
   "cell_type": "code",
   "execution_count": null,
   "metadata": {},
   "outputs": [],
   "source": [
    "from functools import reduce\n",
    "N=100\n",
    "print(reduce( (lambda r,x: (r.difference_update(range(x*x,N,2*x)) or r)\n",
    "                     if (x in r) else r), \n",
    "        range(3, int((N+1)**0.5+1), 2),\n",
    "        set([1,2] + list(range(3,N,2)))))"
   ]
  },
  {
   "cell_type": "markdown",
   "metadata": {},
   "source": [
    "What does this code do?\n",
    "\n",
    "How does it do it?\n",
    "\n",
    "Hint: read the code"
   ]
  },
  {
   "cell_type": "code",
   "execution_count": null,
   "metadata": {},
   "outputs": [],
   "source": [
    "from math import sqrt\n",
    "N = 100\n",
    "sieve = list(range(N))\n",
    "for number in range(2, int(sqrt(N))+1):\n",
    "    if sieve[number]:\n",
    "        for multiple in range(number**2,N,number):\n",
    "            sieve[multiple] = False\n",
    "        \n",
    "for number, prime in enumerate(sieve):\n",
    "    if prime:\n",
    "        print(number)"
   ]
  },
  {
   "cell_type": "markdown",
   "metadata": {},
   "source": [
    "Be careful when naming variables, as there are a lot of existing variables that Python uses for builtin function or variable names.\n",
    "\n",
    "You can see them using the `dir()` function on the `__builtins__` module."
   ]
  },
  {
   "cell_type": "code",
   "execution_count": null,
   "metadata": {},
   "outputs": [],
   "source": [
    "dir(__builtins__) "
   ]
  },
  {
   "cell_type": "markdown",
   "metadata": {},
   "source": [
    "The special variable `_` is used to store the last returned value"
   ]
  },
  {
   "cell_type": "code",
   "execution_count": null,
   "metadata": {},
   "outputs": [],
   "source": [
    "1+2"
   ]
  },
  {
   "cell_type": "code",
   "execution_count": null,
   "metadata": {},
   "outputs": [],
   "source": [
    "print(_)"
   ]
  },
  {
   "cell_type": "markdown",
   "metadata": {},
   "source": [
    "It is commonly used by programmers to indicate things they don't care about.\n",
    "\n",
    "I used to use a variable called `junk` for this, so that when I came back to read my code I could tell that the particuluar variable isn't being used and so I shouldn't try interpreting some meaning from it.\n",
    "\n",
    "In the following function we only care about the first and third returned value:"
   ]
  },
  {
   "cell_type": "code",
   "execution_count": null,
   "metadata": {},
   "outputs": [],
   "source": [
    "def function_returns_three_things():\n",
    "    return 0, 1, 2\n",
    "\n",
    "mean, _, number = function_returns_three_things()"
   ]
  },
  {
   "cell_type": "code",
   "execution_count": null,
   "metadata": {},
   "outputs": [],
   "source": []
  }
 ],
 "metadata": {
  "kernelspec": {
   "display_name": "Python 3",
   "language": "python",
   "name": "python3"
  },
  "language_info": {
   "codemirror_mode": {
    "name": "ipython",
    "version": 3
   },
   "file_extension": ".py",
   "mimetype": "text/x-python",
   "name": "python",
   "nbconvert_exporter": "python",
   "pygments_lexer": "ipython3",
   "version": "3.6.6"
  }
 },
 "nbformat": 4,
 "nbformat_minor": 2
}
