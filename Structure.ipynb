{
 "cells": [
  {
   "cell_type": "markdown",
   "metadata": {},
   "source": [
    "This is what I call the preamble part.\n",
    "\n",
    "The first line means that this file can be run as ./code.py instead of python code.py\n",
    "\n",
    "The `__author__` and `__date__` are nice, and are used by pypi.org and other places to fill in metadata. "
   ]
  },
  {
   "cell_type": "code",
   "execution_count": null,
   "metadata": {},
   "outputs": [],
   "source": [
    "#! /usr/bin/env python\n",
    "\"\"\"\n",
    "Module level doc string.\n",
    "\"\"\"\n",
    "__author__ = ['Paul Hancock', ]\n",
    "__date__ = '2019-07-04'"
   ]
  },
  {
   "cell_type": "markdown",
   "metadata": {},
   "source": [
    "Next part is where we bring in all the external codes. This means importing modules, submodules, specific functions, and maybe renaming some of them.\n",
    "\n",
    "This should make it clear what the dependancies are, and also where the various functions are comming from.\n",
    "\n",
    "NEVER use `from xxx import *` it's a bad idea"
   ]
  },
  {
   "cell_type": "code",
   "execution_count": null,
   "metadata": {},
   "outputs": [],
   "source": [
    "import astropy\n",
    "from astropy.io import fits\n",
    "\n",
    "import math\n",
    "import numpy as np\n"
   ]
  },
  {
   "cell_type": "markdown",
   "metadata": {},
   "source": [
    "If we want to have global or static variables this is where we should define them."
   ]
  },
  {
   "cell_type": "code",
   "execution_count": null,
   "metadata": {},
   "outputs": [],
   "source": [
    "AGE_OF_UNIVERSE = 1 # units of Hubble time\n",
    "SPEED_OF_LIGHT = 1 # units of c\n",
    "\n",
    "some_global_variable = None # defined but not set to anything useful"
   ]
  },
  {
   "cell_type": "markdown",
   "metadata": {},
   "source": [
    "Next we define all the functions and classes that we will need, and maybe some that whe don't. The ordering here is unimportant for Python, but it's nice to group them for readability."
   ]
  },
  {
   "cell_type": "code",
   "execution_count": null,
   "metadata": {},
   "outputs": [],
   "source": [
    "class Thingamabob(object):\n",
    "    pass\n",
    "\n",
    "def function1():\n",
    "    pass\n",
    "\n",
    "def function2():\n",
    "    pass\n",
    "\n",
    "def function3():\n",
    "    pass"
   ]
  },
  {
   "cell_type": "markdown",
   "metadata": {},
   "source": [
    "Finally, once all the hard work is done, we have this idiom which is the equivalent of a `main()` function in C or Java. The advantage here is that this code block will do nothing if the code is imported as a module, but will execute if this is run from the command line.\n",
    "\n",
    "If you are writing a module that isn't meant to run from the command line directly, then this is a nice place to put some test codes!"
   ]
  },
  {
   "cell_type": "code",
   "execution_count": null,
   "metadata": {},
   "outputs": [],
   "source": [
    "if __name__ == \"__main__\":\n",
    "    print(\"Running the main program\")\n",
    "    function1()\n",
    "    function2()\n",
    "    print(\"Finished!\")"
   ]
  }
 ],
 "metadata": {
  "kernelspec": {
   "display_name": "Python 3",
   "language": "python",
   "name": "python3"
  },
  "language_info": {
   "codemirror_mode": {
    "name": "ipython",
    "version": 3
   },
   "file_extension": ".py",
   "mimetype": "text/x-python",
   "name": "python",
   "nbconvert_exporter": "python",
   "pygments_lexer": "ipython3",
   "version": "3.6.6"
  }
 },
 "nbformat": 4,
 "nbformat_minor": 2
}
