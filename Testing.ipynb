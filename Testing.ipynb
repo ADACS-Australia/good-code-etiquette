{
 "cells": [
  {
   "cell_type": "markdown",
   "metadata": {},
   "source": [
    "# Testing Code\n",
    "\n",
    "The levels that you can test code are:\n",
    "- syntax (does the intepreter die before even running the code)\n",
    "- execution (does the code run without crashing)\n",
    "- correctness (does the code give the right result)\n",
    "- integration (does the code do what is stated/expected)\n",
    "\n",
    "Everyone does the first two levels automaticall since it's just asking the question \"does my code run?\"\n",
    "\n",
    "Testing for correctness is done in many different ways, starting from a single test case that you know the answer to. "
   ]
  },
  {
   "cell_type": "markdown",
   "metadata": {},
   "source": [
    "For example I have the following code:\n"
   ]
  },
  {
   "cell_type": "code",
   "execution_count": null,
   "metadata": {},
   "outputs": [],
   "source": [
    "def double(x):\n",
    "    \"\"\"\n",
    "    Double the value of x.\n",
    "    \n",
    "    Parameters\n",
    "    ----------\n",
    "    x : float\n",
    "        Numeric value\n",
    "        \n",
    "        \n",
    "    Returns\n",
    "    -------\n",
    "    result : float\n",
    "        Double the value of x\n",
    "    \"\"\"\n",
    "    result = x\n",
    "    result -= x\n",
    "    return result"
   ]
  },
  {
   "cell_type": "markdown",
   "metadata": {},
   "source": [
    "When I run the code I get:"
   ]
  },
  {
   "cell_type": "code",
   "execution_count": null,
   "metadata": {},
   "outputs": [],
   "source": [
    "double(4)"
   ]
  },
  {
   "cell_type": "markdown",
   "metadata": {},
   "source": [
    "What is my next step:\n",
    "- Fix the code\n",
    "- Write a test for my code\n",
    "\n",
    "Which do I do first?"
   ]
  },
  {
   "cell_type": "code",
   "execution_count": null,
   "metadata": {},
   "outputs": [],
   "source": [
    "def test_double():\n",
    "    \"\"\"\n",
    "    Who is this docstring for?\n",
    "    \"\"\"\n",
    "    x = 4\n",
    "    correct = 8\n",
    "    answer = double(x)\n",
    "    if answer != correct:\n",
    "        raise AssertionError(\"double({0}) = {1} but should be {2}\".format(x, answer, correct))\n",
    "    # more tests here as we find more errors!\n",
    "    return \"PASS\""
   ]
  },
  {
   "cell_type": "code",
   "execution_count": null,
   "metadata": {},
   "outputs": [],
   "source": [
    "test_double()"
   ]
  },
  {
   "cell_type": "markdown",
   "metadata": {},
   "source": [
    "Now go back and find the bug in the `double()` code, rerun the test code to confirm this paricular bug doesn't exist any more."
   ]
  },
  {
   "cell_type": "markdown",
   "metadata": {},
   "source": [
    "What happens when we do the following:\n",
    "- `double(4.0)`\n",
    "- `double(None)`\n",
    "- `double([1, 0])`\n",
    "- `double(np.diag(range(10)))`\n",
    "\n",
    "Are there more bugs we need to work out?"
   ]
  },
  {
   "cell_type": "code",
   "execution_count": null,
   "metadata": {},
   "outputs": [],
   "source": []
  }
 ],
 "metadata": {
  "kernelspec": {
   "display_name": "Python 3",
   "language": "python",
   "name": "python3"
  },
  "language_info": {
   "codemirror_mode": {
    "name": "ipython",
    "version": 3
   },
   "file_extension": ".py",
   "mimetype": "text/x-python",
   "name": "python",
   "nbconvert_exporter": "python",
   "pygments_lexer": "ipython3",
   "version": "3.6.6"
  }
 },
 "nbformat": 4,
 "nbformat_minor": 2
}
