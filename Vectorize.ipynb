{
 "cells": [
  {
   "cell_type": "markdown",
   "metadata": {},
   "source": [
    "# Vectorizing code\n",
    "\n",
    "We start out with an example where we have a function that is defined on a single variable."
   ]
  },
  {
   "cell_type": "code",
   "execution_count": null,
   "metadata": {},
   "outputs": [],
   "source": [
    "import math\n",
    "\n",
    "def sigmoid(x):\n",
    "    \"\"\"\n",
    "    Compute the sigmoid of x defined by\n",
    "    S(x) = exp(x)/(exp(x)+1)\n",
    "    \n",
    "    Parameters\n",
    "    ----------\n",
    "    x : float or int\n",
    "        Input variable\n",
    "        \n",
    "    Returns\n",
    "    -------\n",
    "    sx : float\n",
    "        The sigmoid of x\n",
    "    \"\"\"\n",
    "    sx = math.exp(x) / (math.exp(x) + 1)\n",
    "    return sx"
   ]
  },
  {
   "cell_type": "markdown",
   "metadata": {},
   "source": [
    "We will plot our function jut to make sure that it's giving the correct results. But in order to do that we have to compute sigmoid(x) for lots of values of x."
   ]
  },
  {
   "cell_type": "code",
   "execution_count": null,
   "metadata": {},
   "outputs": [],
   "source": [
    "N = 1000 # number of samples\n",
    "minx = -10\n",
    "maxx = 10\n",
    "\n",
    "x = []\n",
    "sx = []\n",
    "for i in range(N+1): # use +1 to ensure that the max value is in our list\n",
    "    val = minx + i/N * ( maxx - minx) # creates a value between minx and maxx\n",
    "    x.append(val)\n",
    "    sx.append(sigmoid(val))"
   ]
  },
  {
   "cell_type": "markdown",
   "metadata": {},
   "source": [
    "Now we can make the plot!"
   ]
  },
  {
   "cell_type": "code",
   "execution_count": null,
   "metadata": {},
   "outputs": [],
   "source": [
    "%matplotlib inline\n",
    "from matplotlib import pyplot"
   ]
  },
  {
   "cell_type": "code",
   "execution_count": null,
   "metadata": {},
   "outputs": [],
   "source": [
    "pyplot.plot(x,sx)\n",
    "pyplot.xlabel('x')\n",
    "pyplot.ylabel('sigmoid(x)')\n",
    "pyplot.show()"
   ]
  },
  {
   "cell_type": "markdown",
   "metadata": {},
   "source": [
    "Success, our functoin works as intended"
   ]
  },
  {
   "cell_type": "markdown",
   "metadata": {},
   "source": [
    "# Avoiding loops\n",
    "\n",
    "If we want to create our list of x values we can use a numpy function called `linspace` instead of writing a loop. Lets try that instead."
   ]
  },
  {
   "cell_type": "code",
   "execution_count": null,
   "metadata": {},
   "outputs": [],
   "source": [
    "import numpy as np"
   ]
  },
  {
   "cell_type": "code",
   "execution_count": null,
   "metadata": {},
   "outputs": [],
   "source": [
    "N = 1000 # number of samples\n",
    "minx = -10\n",
    "maxx = 10\n",
    "\n",
    "x_array = np.linspace(start=minx,\n",
    "                      stop=maxx, \n",
    "                      num=N,\n",
    "                      endpoint=True) # endpoint =True means we don't need the +1 in our loop\n"
   ]
  },
  {
   "cell_type": "markdown",
   "metadata": {},
   "source": [
    "So lets run this through our function."
   ]
  },
  {
   "cell_type": "code",
   "execution_count": null,
   "metadata": {},
   "outputs": [],
   "source": [
    "sigmoid(x_array)"
   ]
  },
  {
   "cell_type": "markdown",
   "metadata": {},
   "source": [
    "Oh dear, we can only use scalars for this function :(\n",
    "\n",
    "The problem is that the math.exp function only deals with scalars. Lets replace this with the numpy equivalent, which knows about arrays."
   ]
  },
  {
   "cell_type": "code",
   "execution_count": null,
   "metadata": {},
   "outputs": [],
   "source": [
    "def sigmoid_vec(x):\n",
    "    \"\"\"\n",
    "    Compute the sigmoid of x defined by\n",
    "    S(x) = exp(x)/(exp(x)+1)\n",
    "    \n",
    "    Parameters\n",
    "    ----------\n",
    "    x : float or np.array or list([float, ...])\n",
    "        Input variable. Scalar or array or list.\n",
    "        \n",
    "    Returns\n",
    "    -------\n",
    "    sx : float or np.array\n",
    "        The sigmoid of x\n",
    "    \"\"\"\n",
    "    sx = np.exp(x) / (np.exp(x) + 1)\n",
    "    return sx"
   ]
  },
  {
   "cell_type": "markdown",
   "metadata": {},
   "source": [
    "Now lets firstly see if it does what the other function did"
   ]
  },
  {
   "cell_type": "code",
   "execution_count": null,
   "metadata": {},
   "outputs": [],
   "source": [
    "print(\"sigmoid(0) {0}\".format(sigmoid(0)))\n",
    "print(\"sigmoid_vec(0) {0}\".format(sigmoid_vec(0)))"
   ]
  },
  {
   "cell_type": "markdown",
   "metadata": {},
   "source": [
    "Succes! Now try passing our numpy array and see what happens."
   ]
  },
  {
   "cell_type": "code",
   "execution_count": null,
   "metadata": {},
   "outputs": [],
   "source": [
    "sigmoid_vec(x_array)"
   ]
  },
  {
   "cell_type": "markdown",
   "metadata": {},
   "source": [
    "Bonus: it also works on lists, as per our initial version of x"
   ]
  },
  {
   "cell_type": "code",
   "execution_count": null,
   "metadata": {},
   "outputs": [],
   "source": [
    "sigmoid_vec(x)"
   ]
  },
  {
   "cell_type": "markdown",
   "metadata": {},
   "source": [
    "So we can replace our loop with the following code:"
   ]
  },
  {
   "cell_type": "code",
   "execution_count": null,
   "metadata": {},
   "outputs": [],
   "source": [
    "N = 1000 # number of samples\n",
    "minx = -10\n",
    "maxx = 10\n",
    "\n",
    "x_array = np.linspace(start=minx,\n",
    "                      stop=maxx, \n",
    "                      num=N,\n",
    "                      endpoint=True) # endpoint =True means we don't need the +1 in our loop\n",
    "sx = sigmoid_vec(x_array)"
   ]
  },
  {
   "cell_type": "markdown",
   "metadata": {},
   "source": [
    "# Summary\n",
    "\n",
    "We have now made it easier to work with our function because it can accept either single values or arrays or lists (and likely many other iterable objects but we didn't test them here)."
   ]
  },
  {
   "cell_type": "markdown",
   "metadata": {},
   "source": [
    "# Alternative\n",
    "\n",
    "This feels a little bit like a cheat since we are using numpy to do the heavy lifting. We could have vecotorized our code by adding in some checks to see if the input is `iterable` and then iterating over the input value to produce a list for the output.\n",
    "\n",
    "This would 'vectorize' your function, but not really give much of a performance increase.\n",
    "\n",
    "In some cases you have to do a hybrid approach because numpy can't do everything that you want. In general, anything that involves flow controll (ie `if` statements) for different parts of the input array will mean you have to rework your logic. Using `np.where` and array index masks will help you here but this is beyond the scope of this course."
   ]
  }
 ],
 "metadata": {
  "kernelspec": {
   "display_name": "Python 3",
   "language": "python",
   "name": "python3"
  },
  "language_info": {
   "codemirror_mode": {
    "name": "ipython",
    "version": 3
   },
   "file_extension": ".py",
   "mimetype": "text/x-python",
   "name": "python",
   "nbconvert_exporter": "python",
   "pygments_lexer": "ipython3",
   "version": "3.6.6"
  }
 },
 "nbformat": 4,
 "nbformat_minor": 2
}
